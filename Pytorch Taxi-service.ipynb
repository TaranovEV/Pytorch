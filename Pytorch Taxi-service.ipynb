{
 "cells": [
  {
   "cell_type": "markdown",
   "metadata": {},
   "source": [
    "### Упражнение 7\n",
    "\n",
    "1. Напишите многослойный перцептрон для решения задачи из соревнования https://www.kaggle.com/c/pkdd-15-predict-taxi-service-trajectory-i/overview. \n",
    "\n",
    "2. Подберите метод градиентного спуска из списка SGD, Adam, Momentum (на отложенной выборке) и шаг для этого метода.\n",
    "\n",
    "3. Подберите значение [дропаута](https://habr.com/ru/company/wunderfund/blog/330814/) и коэффициент L2 регуляризации.\n",
    "\n",
    "4. Постройте кривые обучения."
   ]
  },
  {
   "cell_type": "markdown",
   "metadata": {},
   "source": [
    "Часть 1- подготовка данных, есть чек поинт где можно загрузить подготовленные данные"
   ]
  },
  {
   "cell_type": "code",
   "execution_count": 347,
   "metadata": {},
   "outputs": [],
   "source": [
    "data_train = pd.read_csv(\n",
    "    'C:/Users/Евген/Downloads/pkdd-15-predict-taxi-service-trajectory-i/train.csv.zip'\n",
    "    ,compression='zip')"
   ]
  },
  {
   "cell_type": "code",
   "execution_count": 348,
   "metadata": {},
   "outputs": [],
   "source": [
    "data_test = pd.read_csv(\n",
    "    'C:/Users/Евген/Downloads/pkdd-15-predict-taxi-service-trajectory-i/test.csv.zip'\n",
    "    ,compression='zip')"
   ]
  },
  {
   "cell_type": "code",
   "execution_count": 349,
   "metadata": {},
   "outputs": [
    {
     "data": {
      "text/plain": [
       "81"
      ]
     },
     "execution_count": 349,
     "metadata": {},
     "output_type": "execute_result"
    }
   ],
   "source": [
    "#посмотрим на количество дубликатов идентефикаторов поездки\n",
    "data_train['TRIP_ID'].shape[0] - data_train['TRIP_ID'].nunique()"
   ]
  },
  {
   "cell_type": "code",
   "execution_count": 350,
   "metadata": {},
   "outputs": [],
   "source": [
    "#удалим дубликаты\n",
    "data_train.drop_duplicates(subset='TRIP_ID',inplace=True)"
   ]
  },
  {
   "cell_type": "code",
   "execution_count": 351,
   "metadata": {},
   "outputs": [
    {
     "data": {
      "text/plain": [
       "1384683034620000186    1\n",
       "1400171431620000463    1\n",
       "1374075962620000361    1\n",
       "1388778783620000039    1\n",
       "1389820270620000263    1\n",
       "                      ..\n",
       "1397476421620000468    1\n",
       "1397278730620000534    1\n",
       "1374055651620000247    1\n",
       "1394648368620000633    1\n",
       "1403071175620000484    1\n",
       "Name: TRIP_ID, Length: 1710589, dtype: int64"
      ]
     },
     "execution_count": 351,
     "metadata": {},
     "output_type": "execute_result"
    }
   ],
   "source": [
    "#посмотрим теперь-все в порядке\n",
    "data_train['TRIP_ID'].value_counts()"
   ]
  },
  {
   "cell_type": "code",
   "execution_count": 352,
   "metadata": {},
   "outputs": [],
   "source": [
    "#теперь TRIP_ID можно удалить\n",
    "data_train.drop('TRIP_ID', axis = 1, inplace = True)"
   ]
  },
  {
   "cell_type": "code",
   "execution_count": 353,
   "metadata": {},
   "outputs": [
    {
     "data": {
      "text/plain": [
       "B    817881\n",
       "C    527938\n",
       "A    364770\n",
       "Name: CALL_TYPE, dtype: int64"
      ]
     },
     "execution_count": 353,
     "metadata": {},
     "output_type": "execute_result"
    }
   ],
   "source": [
    "#посмотрим на распределение CALL_TYPE\n",
    "type_of_call = data_train['CALL_TYPE'].value_counts()\n",
    "type_of_call"
   ]
  },
  {
   "cell_type": "code",
   "execution_count": 354,
   "metadata": {},
   "outputs": [
    {
     "name": "stdout",
     "output_type": "stream",
     "text": [
      "True\n",
      "0\n"
     ]
    }
   ],
   "source": [
    "#проверим сходится ли количество записей по условию\n",
    "#CALL_TYPE=А должен быть равен количеству notNaN ORIGIN_CALL  \n",
    "print(pd.notnull(data_train['ORIGIN_CALL']).sum()==type_of_call['A'])\n",
    "print(pd.notnull(data_train['ORIGIN_CALL']).sum()-type_of_call['A'])"
   ]
  },
  {
   "cell_type": "code",
   "execution_count": 355,
   "metadata": {},
   "outputs": [
    {
     "name": "stdout",
     "output_type": "stream",
     "text": [
      "False\n",
      "-11302\n"
     ]
    }
   ],
   "source": [
    "#теперь проверим CALL_TYPE=B должен быть равен notNaN ORIGIN_STAND\n",
    "print(pd.notnull(data_train['ORIGIN_STAND']).sum()==type_of_call['B'])\n",
    "print(pd.notnull(data_train['ORIGIN_STAND']).sum()-type_of_call['B'])"
   ]
  },
  {
   "cell_type": "code",
   "execution_count": 356,
   "metadata": {},
   "outputs": [],
   "source": [
    "#разница в 11302 элементах\n",
    "#удалим эти записи\n",
    "index_drop_row = data_train.index[(data_train['CALL_TYPE']=='B')\\\n",
    "                               &(data_train['ORIGIN_STAND'].isnull())].tolist()"
   ]
  },
  {
   "cell_type": "code",
   "execution_count": 357,
   "metadata": {},
   "outputs": [],
   "source": [
    "data_train.drop(index = index_drop_row, inplace=True)"
   ]
  },
  {
   "cell_type": "code",
   "execution_count": 358,
   "metadata": {},
   "outputs": [
    {
     "data": {
      "text/plain": [
       "B    806579\n",
       "C    527938\n",
       "A    364770\n",
       "Name: CALL_TYPE, dtype: int64"
      ]
     },
     "execution_count": 358,
     "metadata": {},
     "output_type": "execute_result"
    }
   ],
   "source": [
    "type_of_call = data_train['CALL_TYPE'].value_counts()\n",
    "type_of_call"
   ]
  },
  {
   "cell_type": "code",
   "execution_count": 359,
   "metadata": {},
   "outputs": [
    {
     "name": "stdout",
     "output_type": "stream",
     "text": [
      "True\n",
      "0\n"
     ]
    }
   ],
   "source": [
    "#снова проверим CALL_TYPE=B должен быть равен notNaN ORIGIN_STAND\n",
    "#теперь все в порядке\n",
    "print(pd.notnull(data_train['ORIGIN_STAND']).sum()==type_of_call['B'])\n",
    "print(pd.notnull(data_train['ORIGIN_STAND']).sum()-type_of_call['B'])"
   ]
  },
  {
   "cell_type": "code",
   "execution_count": 360,
   "metadata": {},
   "outputs": [
    {
     "data": {
      "text/plain": [
       "CALL_TYPE             0\n",
       "ORIGIN_CALL     1334517\n",
       "ORIGIN_STAND     892708\n",
       "TAXI_ID               0\n",
       "TIMESTAMP             0\n",
       "DAY_TYPE              0\n",
       "MISSING_DATA          0\n",
       "POLYLINE              0\n",
       "dtype: int64"
      ]
     },
     "execution_count": 360,
     "metadata": {},
     "output_type": "execute_result"
    }
   ],
   "source": [
    "# проверим остальные данные\n",
    "data_train.isnull().sum()"
   ]
  },
  {
   "cell_type": "code",
   "execution_count": 361,
   "metadata": {},
   "outputs": [],
   "source": [
    "#объединим ORIGIN_CALL и ORIGIN_STAND\n",
    "#остальные значения Nan будут принадлежать CALL_TYPE=С\n",
    "#их заменим нулями\n",
    "data_train['CALL_AND_STAND'] = data_train[['ORIGIN_CALL','ORIGIN_STAND']].fillna(0).sum(axis=1)"
   ]
  },
  {
   "cell_type": "code",
   "execution_count": 362,
   "metadata": {},
   "outputs": [],
   "source": [
    "#теперь столбцы ORIGIN_CALL и ORIGIN_STAND\n",
    "#более не нужны\n",
    "data_train.drop(['ORIGIN_CALL','ORIGIN_STAND'], axis = 1, inplace = True)"
   ]
  },
  {
   "cell_type": "code",
   "execution_count": 363,
   "metadata": {},
   "outputs": [
    {
     "data": {
      "text/plain": [
       "CALL_TYPE         0\n",
       "TAXI_ID           0\n",
       "TIMESTAMP         0\n",
       "DAY_TYPE          0\n",
       "MISSING_DATA      0\n",
       "POLYLINE          0\n",
       "CALL_AND_STAND    0\n",
       "dtype: int64"
      ]
     },
     "execution_count": 363,
     "metadata": {},
     "output_type": "execute_result"
    }
   ],
   "source": [
    "#убедимся что пропусков более нет\n",
    "data_train.isnull().sum()"
   ]
  },
  {
   "cell_type": "code",
   "execution_count": 364,
   "metadata": {},
   "outputs": [
    {
     "data": {
      "text/plain": [
       "False    1699277\n",
       "True          10\n",
       "Name: MISSING_DATA, dtype: int64"
      ]
     },
     "execution_count": 364,
     "metadata": {},
     "output_type": "execute_result"
    }
   ],
   "source": [
    "#посмотрим на признак MISSING_DATA\n",
    "# True означает, что координаты неполные\n",
    "data_train['MISSING_DATA'].value_counts()"
   ]
  },
  {
   "cell_type": "code",
   "execution_count": 365,
   "metadata": {},
   "outputs": [],
   "source": [
    "#таких значений 10 \n",
    "#это небольшое количество, и можно удалить эти строки\n",
    "index_drop_row = data_train.index[data_train['MISSING_DATA']==True].tolist()"
   ]
  },
  {
   "cell_type": "code",
   "execution_count": 366,
   "metadata": {},
   "outputs": [],
   "source": [
    "data_train.drop(index = index_drop_row, inplace=True)"
   ]
  },
  {
   "cell_type": "code",
   "execution_count": 367,
   "metadata": {},
   "outputs": [
    {
     "data": {
      "text/plain": [
       "False    1699277\n",
       "Name: MISSING_DATA, dtype: int64"
      ]
     },
     "execution_count": 367,
     "metadata": {},
     "output_type": "execute_result"
    }
   ],
   "source": [
    "#проверим-теперь все в порядке\n",
    "data_train['MISSING_DATA'].value_counts()"
   ]
  },
  {
   "cell_type": "code",
   "execution_count": 368,
   "metadata": {},
   "outputs": [],
   "source": [
    "#избавимся от пустых значений словаря в признаке POLYLINE\n",
    "index_drop_row = data_train.index[data_train['POLYLINE']=='[]'].tolist()"
   ]
  },
  {
   "cell_type": "code",
   "execution_count": 369,
   "metadata": {},
   "outputs": [],
   "source": [
    "data_train.drop(index = index_drop_row, inplace=True)"
   ]
  },
  {
   "cell_type": "code",
   "execution_count": 370,
   "metadata": {},
   "outputs": [],
   "source": [
    "#нумерация индексов нарушена, восстановим\n",
    "data_train = data_train.reset_index(drop=True)"
   ]
  },
  {
   "cell_type": "code",
   "execution_count": 371,
   "metadata": {},
   "outputs": [],
   "source": [
    "#создадим новые признаки\n",
    "#координаты начала поездки\n",
    "data_train['START_LONGITUDE'] = 0.0\n",
    "data_train['START_LATITUDE'] = 0.0\n",
    "#координаты окончания поездки-их будем предсказывать\n",
    "data_train['FINISH_LONGITUDE'] = 0.0\n",
    "data_train['FINISH_LATITUDE'] = 0.0\n",
    "#дистанцию рассчитанную с помощью haversine_distances\n",
    "data_train['DIST'] = 0.0\n",
    "#длительность поездки\n",
    "data_train['TIME_ROAD'] = 0"
   ]
  },
  {
   "cell_type": "code",
   "execution_count": 394,
   "metadata": {},
   "outputs": [],
   "source": [
    "#определим функции для извлечения данных из POLYLINE\n",
    "#брать координаты начала и окончания поездки\n",
    "def return_START_LONGITUDE(i):\n",
    "    return np.float_(re.findall('[-+]?(?:\\d+(?:\\.\\d*)?|\\.\\d+)',\\\n",
    "                         data_train.POLYLINE[i]))[0]\n",
    "def return_START_LATITUDE(i):\n",
    "    return np.float_(re.findall('[-+]?(?:\\d+(?:\\.\\d*)?|\\.\\d+)',\\\n",
    "                         data_train.POLYLINE[i]))[1]\n",
    "def return_FINISH_LONGITUDE(i):\n",
    "    return np.float_(re.findall('[-+]?(?:\\d+(?:\\.\\d*)?|\\.\\d+)',\\\n",
    "                         data_train.POLYLINE[i]))[-2]\n",
    "def return_FINISH_LATITUDE(i):\n",
    "    return np.float_(re.findall('[-+]?(?:\\d+(?:\\.\\d*)?|\\.\\d+)',\\\n",
    "                         data_train.POLYLINE[i]))[-1]\n",
    "#длительность рассчитываем как количество пингов каждые 15 секунд\n",
    "def return_TIME_ROAD(i):\n",
    "    return (len(re.findall('\\[',data_train.POLYLINE[i]))-1)*15\n"
   ]
  },
  {
   "cell_type": "code",
   "execution_count": 382,
   "metadata": {},
   "outputs": [],
   "source": [
    "data_train['START_LONGITUDE'] = [return_START_LONGITUDE(index) \\\n",
    "                                 for index in data_train.index]\n",
    "data_train['START_LATITUDE'] = [return_START_LATITUDE(index) \\\n",
    "                                for index in data_train.index]\n",
    "data_train['FINISH_LONGITUDE'] = [return_FINISH_LONGITUDE(index) \\\n",
    "                                  for index in data_train.index]\n",
    "data_train['FINISH_LATITUDE'] = [return_FINISH_LATITUDE(index) \\\n",
    "                                 for index in data_train.index]"
   ]
  },
  {
   "cell_type": "code",
   "execution_count": 397,
   "metadata": {},
   "outputs": [],
   "source": [
    "#рассчитываем расстояние\n",
    "def haversine_dist(index):\n",
    "    start = []\n",
    "    finish = []\n",
    "    start.append(data_train['START_LONGITUDE'][index])\n",
    "    start.append(data_train['START_LATITUDE'][index])\n",
    "    finish.append(data_train['FINISH_LONGITUDE'][index])\n",
    "    finish.append(data_train['FINISH_LATITUDE'][index])\n",
    "    \n",
    "    start_in_radians = [radians(_) for _ in start]\n",
    "    finish_in_radians = [radians(_) for _ in finish]\n",
    "    result = haversine_distances([start_in_radians, finish_in_radians])\n",
    "    return result[0][1] * 6371000/1000\n",
    "data_train['DIST'] = [haversine_dist(index) for index in data_train.index]\n",
    "data_train['TIME_ROAD'] = [return_TIME_ROAD(index) for index in data_train.index]"
   ]
  },
  {
   "cell_type": "code",
   "execution_count": 400,
   "metadata": {},
   "outputs": [],
   "source": [
    "#теперь POLYLINE и\n",
    "#TIMESTAMP(начало поездки в формате Unix Timestamp (in seconds)) можно удалить\n",
    "#DAY_TYPE содержит один класс -его также удаляем\n",
    "data_train.drop(['POLYLINE','TIMESTAMP','DAY_TYPE'], axis = 1, inplace = True)"
   ]
  },
  {
   "cell_type": "code",
   "execution_count": 401,
   "metadata": {},
   "outputs": [],
   "source": [
    "#признак TAXI_ID имеет высокие значения,\n",
    "#что повлияет на присваивание весов\n",
    "#поэтому вычтем из него 20000000-информативность не изменится\n",
    "data_train['TAXI_ID'] = data_train['TAXI_ID']-20000000"
   ]
  },
  {
   "cell_type": "code",
   "execution_count": 402,
   "metadata": {},
   "outputs": [
    {
     "data": {
      "text/html": [
       "<div>\n",
       "<style scoped>\n",
       "    .dataframe tbody tr th:only-of-type {\n",
       "        vertical-align: middle;\n",
       "    }\n",
       "\n",
       "    .dataframe tbody tr th {\n",
       "        vertical-align: top;\n",
       "    }\n",
       "\n",
       "    .dataframe thead th {\n",
       "        text-align: right;\n",
       "    }\n",
       "</style>\n",
       "<table border=\"1\" class=\"dataframe\">\n",
       "  <thead>\n",
       "    <tr style=\"text-align: right;\">\n",
       "      <th></th>\n",
       "      <th>TAXI_ID</th>\n",
       "      <th>MISSING_DATA</th>\n",
       "      <th>CALL_AND_STAND</th>\n",
       "      <th>START_LONGITUDE</th>\n",
       "      <th>START_LATITUDE</th>\n",
       "      <th>FINISH_LONGITUDE</th>\n",
       "      <th>FINISH_LATITUDE</th>\n",
       "      <th>DIST</th>\n",
       "      <th>TIME_ROAD</th>\n",
       "      <th>CALL_TYPE_A</th>\n",
       "      <th>CALL_TYPE_B</th>\n",
       "      <th>CALL_TYPE_C</th>\n",
       "    </tr>\n",
       "  </thead>\n",
       "  <tbody>\n",
       "    <tr>\n",
       "      <th>0</th>\n",
       "      <td>589</td>\n",
       "      <td>False</td>\n",
       "      <td>0.0</td>\n",
       "      <td>-8.618643</td>\n",
       "      <td>41.141412</td>\n",
       "      <td>-8.630838</td>\n",
       "      <td>41.154489</td>\n",
       "      <td>1.976270</td>\n",
       "      <td>345</td>\n",
       "      <td>0</td>\n",
       "      <td>0</td>\n",
       "      <td>1</td>\n",
       "    </tr>\n",
       "    <tr>\n",
       "      <th>1</th>\n",
       "      <td>596</td>\n",
       "      <td>False</td>\n",
       "      <td>7.0</td>\n",
       "      <td>-8.639847</td>\n",
       "      <td>41.159826</td>\n",
       "      <td>-8.665740</td>\n",
       "      <td>41.170671</td>\n",
       "      <td>3.116235</td>\n",
       "      <td>285</td>\n",
       "      <td>0</td>\n",
       "      <td>1</td>\n",
       "      <td>0</td>\n",
       "    </tr>\n",
       "    <tr>\n",
       "      <th>2</th>\n",
       "      <td>320</td>\n",
       "      <td>False</td>\n",
       "      <td>0.0</td>\n",
       "      <td>-8.612964</td>\n",
       "      <td>41.140359</td>\n",
       "      <td>-8.615970</td>\n",
       "      <td>41.140530</td>\n",
       "      <td>0.334780</td>\n",
       "      <td>975</td>\n",
       "      <td>0</td>\n",
       "      <td>0</td>\n",
       "      <td>1</td>\n",
       "    </tr>\n",
       "    <tr>\n",
       "      <th>3</th>\n",
       "      <td>520</td>\n",
       "      <td>False</td>\n",
       "      <td>0.0</td>\n",
       "      <td>-8.574678</td>\n",
       "      <td>41.151951</td>\n",
       "      <td>-8.607996</td>\n",
       "      <td>41.142915</td>\n",
       "      <td>3.835687</td>\n",
       "      <td>645</td>\n",
       "      <td>0</td>\n",
       "      <td>0</td>\n",
       "      <td>1</td>\n",
       "    </tr>\n",
       "    <tr>\n",
       "      <th>4</th>\n",
       "      <td>337</td>\n",
       "      <td>False</td>\n",
       "      <td>0.0</td>\n",
       "      <td>-8.645994</td>\n",
       "      <td>41.180490</td>\n",
       "      <td>-8.687268</td>\n",
       "      <td>41.178087</td>\n",
       "      <td>4.597055</td>\n",
       "      <td>435</td>\n",
       "      <td>0</td>\n",
       "      <td>0</td>\n",
       "      <td>1</td>\n",
       "    </tr>\n",
       "    <tr>\n",
       "      <th>...</th>\n",
       "      <td>...</td>\n",
       "      <td>...</td>\n",
       "      <td>...</td>\n",
       "      <td>...</td>\n",
       "      <td>...</td>\n",
       "      <td>...</td>\n",
       "      <td>...</td>\n",
       "      <td>...</td>\n",
       "      <td>...</td>\n",
       "      <td>...</td>\n",
       "      <td>...</td>\n",
       "      <td>...</td>\n",
       "    </tr>\n",
       "    <tr>\n",
       "      <th>1693395</th>\n",
       "      <td>585</td>\n",
       "      <td>False</td>\n",
       "      <td>0.0</td>\n",
       "      <td>-8.606970</td>\n",
       "      <td>41.162283</td>\n",
       "      <td>-8.608158</td>\n",
       "      <td>41.162382</td>\n",
       "      <td>0.132547</td>\n",
       "      <td>2910</td>\n",
       "      <td>0</td>\n",
       "      <td>0</td>\n",
       "      <td>1</td>\n",
       "    </tr>\n",
       "    <tr>\n",
       "      <th>1693396</th>\n",
       "      <td>698</td>\n",
       "      <td>False</td>\n",
       "      <td>0.0</td>\n",
       "      <td>-8.612469</td>\n",
       "      <td>41.146020</td>\n",
       "      <td>-8.611344</td>\n",
       "      <td>41.171013</td>\n",
       "      <td>2.750607</td>\n",
       "      <td>480</td>\n",
       "      <td>0</td>\n",
       "      <td>0</td>\n",
       "      <td>1</td>\n",
       "    </tr>\n",
       "    <tr>\n",
       "      <th>1693397</th>\n",
       "      <td>670</td>\n",
       "      <td>False</td>\n",
       "      <td>0.0</td>\n",
       "      <td>-8.610138</td>\n",
       "      <td>41.140845</td>\n",
       "      <td>-8.627454</td>\n",
       "      <td>41.158755</td>\n",
       "      <td>2.753973</td>\n",
       "      <td>450</td>\n",
       "      <td>0</td>\n",
       "      <td>0</td>\n",
       "      <td>1</td>\n",
       "    </tr>\n",
       "    <tr>\n",
       "      <th>1693398</th>\n",
       "      <td>248</td>\n",
       "      <td>False</td>\n",
       "      <td>12.0</td>\n",
       "      <td>-8.630712</td>\n",
       "      <td>41.154885</td>\n",
       "      <td>-8.587026</td>\n",
       "      <td>41.173524</td>\n",
       "      <td>5.272205</td>\n",
       "      <td>930</td>\n",
       "      <td>0</td>\n",
       "      <td>1</td>\n",
       "      <td>0</td>\n",
       "    </tr>\n",
       "    <tr>\n",
       "      <th>1693399</th>\n",
       "      <td>79</td>\n",
       "      <td>False</td>\n",
       "      <td>34.0</td>\n",
       "      <td>-8.615538</td>\n",
       "      <td>41.140629</td>\n",
       "      <td>-8.620893</td>\n",
       "      <td>41.149881</td>\n",
       "      <td>1.178632</td>\n",
       "      <td>405</td>\n",
       "      <td>0</td>\n",
       "      <td>1</td>\n",
       "      <td>0</td>\n",
       "    </tr>\n",
       "  </tbody>\n",
       "</table>\n",
       "<p>1693400 rows × 12 columns</p>\n",
       "</div>"
      ],
      "text/plain": [
       "         TAXI_ID  MISSING_DATA  CALL_AND_STAND  START_LONGITUDE  \\\n",
       "0            589         False             0.0        -8.618643   \n",
       "1            596         False             7.0        -8.639847   \n",
       "2            320         False             0.0        -8.612964   \n",
       "3            520         False             0.0        -8.574678   \n",
       "4            337         False             0.0        -8.645994   \n",
       "...          ...           ...             ...              ...   \n",
       "1693395      585         False             0.0        -8.606970   \n",
       "1693396      698         False             0.0        -8.612469   \n",
       "1693397      670         False             0.0        -8.610138   \n",
       "1693398      248         False            12.0        -8.630712   \n",
       "1693399       79         False            34.0        -8.615538   \n",
       "\n",
       "         START_LATITUDE  FINISH_LONGITUDE  FINISH_LATITUDE      DIST  \\\n",
       "0             41.141412         -8.630838        41.154489  1.976270   \n",
       "1             41.159826         -8.665740        41.170671  3.116235   \n",
       "2             41.140359         -8.615970        41.140530  0.334780   \n",
       "3             41.151951         -8.607996        41.142915  3.835687   \n",
       "4             41.180490         -8.687268        41.178087  4.597055   \n",
       "...                 ...               ...              ...       ...   \n",
       "1693395       41.162283         -8.608158        41.162382  0.132547   \n",
       "1693396       41.146020         -8.611344        41.171013  2.750607   \n",
       "1693397       41.140845         -8.627454        41.158755  2.753973   \n",
       "1693398       41.154885         -8.587026        41.173524  5.272205   \n",
       "1693399       41.140629         -8.620893        41.149881  1.178632   \n",
       "\n",
       "         TIME_ROAD  CALL_TYPE_A  CALL_TYPE_B  CALL_TYPE_C  \n",
       "0              345            0            0            1  \n",
       "1              285            0            1            0  \n",
       "2              975            0            0            1  \n",
       "3              645            0            0            1  \n",
       "4              435            0            0            1  \n",
       "...            ...          ...          ...          ...  \n",
       "1693395       2910            0            0            1  \n",
       "1693396        480            0            0            1  \n",
       "1693397        450            0            0            1  \n",
       "1693398        930            0            1            0  \n",
       "1693399        405            0            1            0  \n",
       "\n",
       "[1693400 rows x 12 columns]"
      ]
     },
     "execution_count": 402,
     "metadata": {},
     "output_type": "execute_result"
    }
   ],
   "source": [
    "#кодируем категориальные признаки\n",
    "X_full = pd.get_dummies(data_train)\n",
    "X_full"
   ]
  },
  {
   "cell_type": "code",
   "execution_count": 403,
   "metadata": {},
   "outputs": [],
   "source": [
    "X = X_full.drop(['FINISH_LONGITUDE','FINISH_LATITUDE'], axis=1)\n",
    "y = X_full[['FINISH_LONGITUDE','FINISH_LATITUDE']]"
   ]
  },
  {
   "cell_type": "markdown",
   "metadata": {},
   "source": [
    "Тут я загружал уже подготовленные ранее и сохранненные данные [X](https://drive.google.com/open?id=1aB5DJX5mvj8-pG4jJlUZiiQYj2UcB1gD) и [y](https://drive.google.com/open?id=1_OWSmKv9yQtNwBg1bg419yzAVSP4lcFG)"
   ]
  },
  {
   "cell_type": "code",
   "execution_count": 3,
   "metadata": {},
   "outputs": [],
   "source": [
    "X = pd.read_csv('X_taxi')\n",
    "X.drop(['Unnamed: 0'], axis = 1,inplace = True)\n",
    "y = pd.read_csv('y_taxi')"
   ]
  },
  {
   "cell_type": "code",
   "execution_count": 4,
   "metadata": {},
   "outputs": [],
   "source": [
    "#разделим на тренировочную и валидационную выборку\n",
    "X_train,X_valid,y_train,y_valid = train_test_split\\\n",
    "                    (X, y, test_size=0.1,random_state = 42)"
   ]
  },
  {
   "cell_type": "code",
   "execution_count": 5,
   "metadata": {},
   "outputs": [],
   "source": [
    "#переведем данные в формат тензоров\n",
    "X_train_torch = torch.tensor(X_train.values.astype(np.float32))\n",
    "X_valid_torch = torch.tensor(X_valid.values.astype(np.float32))\n",
    "\n",
    "y_train_torch = torch.tensor(y_train.values.astype(np.float32))\n",
    "y_valid_torch = torch.tensor(y_valid.values.astype(np.float32))"
   ]
  },
  {
   "cell_type": "code",
   "execution_count": 48,
   "metadata": {},
   "outputs": [],
   "source": [
    "#архитектура сети будет состоять из \n",
    "model = nn.Sequential()\n",
    "#входного линейного слоя с функцией активации ReLU\n",
    "model.add_module('l1', nn.Linear(10, 100))\n",
    "model.add_module('a1', nn.ReLU())\n",
    "#после каждой функции активации добавим BatchNorm\n",
    "model.add_module('b1', nn.BatchNorm1d(100))\n",
    "#скрытый слой с функцией активации Tanh\n",
    "model.add_module('l2', nn.Linear(100, 100))\n",
    "model.add_module('a2', nn.Tanh())\n",
    "model.add_module('b1', nn.BatchNorm1d(100))\n",
    "#скрытый слой с функцией активации ReLU\n",
    "model.add_module('l3', nn.Linear(100, 100))\n",
    "model.add_module('a3', nn.ReLU())\n",
    "model.add_module('b1', nn.BatchNorm1d(100))\n",
    "\n",
    "\n",
    "model.add_module('l4', nn.Linear(100, 2))\n"
   ]
  },
  {
   "cell_type": "code",
   "execution_count": 49,
   "metadata": {},
   "outputs": [
    {
     "name": "stdout",
     "output_type": "stream",
     "text": [
      "----------------------------------------------------------------\n",
      "        Layer (type)               Output Shape         Param #\n",
      "================================================================\n",
      "            Linear-1                  [-1, 100]           1,100\n",
      "              ReLU-2                  [-1, 100]               0\n",
      "       BatchNorm1d-3                  [-1, 100]             200\n",
      "            Linear-4                  [-1, 100]          10,100\n",
      "              Tanh-5                  [-1, 100]               0\n",
      "            Linear-6                  [-1, 100]          10,100\n",
      "              ReLU-7                  [-1, 100]               0\n",
      "            Linear-8                    [-1, 2]             202\n",
      "================================================================\n",
      "Total params: 21,702\n",
      "Trainable params: 21,702\n",
      "Non-trainable params: 0\n",
      "----------------------------------------------------------------\n",
      "Input size (MB): 0.00\n",
      "Forward/backward pass size (MB): 0.01\n",
      "Params size (MB): 0.08\n",
      "Estimated Total Size (MB): 0.09\n",
      "----------------------------------------------------------------\n"
     ]
    }
   ],
   "source": [
    "#посмотрим на структуру\n",
    "torchsummary.summary(model, (10,))"
   ]
  },
  {
   "cell_type": "code",
   "execution_count": 8,
   "metadata": {},
   "outputs": [],
   "source": [
    "#в качестве оптимизатора возьмем сначала Adam\n",
    "opt = torch.optim.Adam(model.parameters(), lr=3e-4)"
   ]
  },
  {
   "cell_type": "code",
   "execution_count": 10,
   "metadata": {},
   "outputs": [],
   "source": [
    "#функция потерь MSE\n",
    "loss_function = nn.MSELoss()"
   ]
  },
  {
   "cell_type": "markdown",
   "metadata": {},
   "source": [
    "Сначала обучим без подбора и посмотрим результат"
   ]
  },
  {
   "cell_type": "code",
   "execution_count": 14,
   "metadata": {},
   "outputs": [
    {
     "name": "stdout",
     "output_type": "stream",
     "text": [
      "step #0 | mean loss = 3.6437, valid MSE = 4.0941\n",
      "step #500 | mean loss = 3.4853, valid MSE = 1.7842\n",
      "step #1000 | mean loss = 0.025265, valid MSE = 0.099426\n",
      "step #1500 | mean loss = 0.014029, valid MSE = 0.022722\n",
      "step #2000 | mean loss = 0.020934, valid MSE = 0.018879\n",
      "step #2500 | mean loss = 0.031006, valid MSE = 0.020291\n",
      "step #3000 | mean loss = 0.04411, valid MSE = 0.014324\n",
      "step #3500 | mean loss = 0.019569, valid MSE = 0.013661\n",
      "step #4000 | mean loss = 0.033213, valid MSE = 0.012364\n",
      "step #4500 | mean loss = 0.011711, valid MSE = 0.013297\n",
      "step #5000 | mean loss = 0.002309, valid MSE = 0.010839\n",
      "step #5500 | mean loss = 0.025196, valid MSE = 0.0114\n",
      "step #6000 | mean loss = 0.0021156, valid MSE = 0.0094472\n",
      "step #6500 | mean loss = 0.0047553, valid MSE = 0.0095047\n",
      "step #7000 | mean loss = 0.0015482, valid MSE = 0.0089895\n",
      "step #7500 | mean loss = 0.0027718, valid MSE = 0.009147\n",
      "step #8000 | mean loss = 0.004292, valid MSE = 0.010422\n",
      "step #8500 | mean loss = 0.010394, valid MSE = 0.0087073\n",
      "step #9000 | mean loss = 0.0025821, valid MSE = 0.0084909\n",
      "step #9500 | mean loss = 0.001717, valid MSE = 0.0088011\n"
     ]
    }
   ],
   "source": [
    "history = []\n",
    "\n",
    "for i in range(10000):\n",
    "    \n",
    "    # каждый минибатч будет состоять из 256 образцов\n",
    "    ix = np.random.randint(0, len(X_train), 256)\n",
    "    x_batch = X_train_torch[ix]\n",
    "    y_batch = y_train_torch[ix]\n",
    "    \n",
    "    #обучаем модель\n",
    "    y_predicted = model(x_batch)\n",
    "    \n",
    "    # считаем функцию потерь\n",
    "    loss = loss_function(y_predicted, y_batch)\n",
    "    #обнуляем градиент\n",
    "    opt.zero_grad()\n",
    "    \n",
    "    \n",
    "    #считаем градиент\n",
    "    loss.backward()\n",
    "    \n",
    "    #делаем шаг\n",
    "    opt.step()\n",
    "    \n",
    "    \n",
    "    #добавляем значение\n",
    "    history.append(loss.data.numpy())\n",
    "    #выводить будем каждые 500 эпох\n",
    "    if i % 500 == 0:\n",
    "        print(\"step #{} | mean loss = {:.5}, valid MSE = {:.5}\".format(\n",
    "            i,\n",
    "            np.mean(history[-1]),\n",
    "            mean_squared_error(y_valid_torch.detach().numpy(), model(X_valid_torch).detach().numpy())))"
   ]
  },
  {
   "cell_type": "code",
   "execution_count": 56,
   "metadata": {},
   "outputs": [],
   "source": [
    "#начнем с подбора оптимального learning rate\n",
    "opt = torch.optim.Adam(model.parameters(), lr=3e-2)\n",
    "lr_scheduler = StepLR(opt, step_size=1, gamma=0.1)"
   ]
  },
  {
   "cell_type": "code",
   "execution_count": 80,
   "metadata": {},
   "outputs": [],
   "source": [
    "#функция для возвращения значения lr\n",
    "def get_lr(optimizer):\n",
    "    for param_group in optimizer.param_groups:\n",
    "        return param_group['lr']"
   ]
  },
  {
   "cell_type": "code",
   "execution_count": 57,
   "metadata": {},
   "outputs": [
    {
     "name": "stdout",
     "output_type": "stream",
     "text": [
      "Epoch: 0 LR: [0.03]\n",
      "step #0 | mean loss = 0.0026787, valid MSE = 394.64\n",
      "Epoch: 100 LR: [0.003]\n",
      "step #100 | mean loss = 0.0026787, valid MSE = 0.07022\n",
      "Epoch: 200 LR: [0.00030000000000000003]\n",
      "step #200 | mean loss = 0.0026787, valid MSE = 0.062383\n",
      "Epoch: 300 LR: [3.0000000000000008e-05]\n",
      "step #300 | mean loss = 0.0026787, valid MSE = 0.061845\n",
      "Epoch: 400 LR: [3.0000000000000005e-06]\n",
      "step #400 | mean loss = 0.0026787, valid MSE = 0.061779\n",
      "Epoch: 500 LR: [3.0000000000000004e-07]\n",
      "step #500 | mean loss = 0.0026787, valid MSE = 0.061771\n",
      "Epoch: 600 LR: [3.000000000000001e-08]\n",
      "step #600 | mean loss = 0.0026787, valid MSE = 0.061771\n",
      "Epoch: 700 LR: [3.000000000000001e-09]\n",
      "step #700 | mean loss = 0.0026787, valid MSE = 0.061771\n",
      "Epoch: 800 LR: [3.0000000000000015e-10]\n",
      "step #800 | mean loss = 0.0026787, valid MSE = 0.061771\n",
      "Epoch: 900 LR: [3.000000000000001e-11]\n",
      "step #900 | mean loss = 0.0026787, valid MSE = 0.061771\n"
     ]
    }
   ],
   "source": [
    "#комп слабенький поэтому подбор сделал\n",
    "# из 1000 эпох\n",
    "from sklearn.metrics import mean_squared_error\n",
    "\n",
    "\n",
    "train_loss_history = []\n",
    "val_loss_history = []\n",
    "val_lr = []\n",
    "\n",
    "\n",
    "\n",
    "local_train_loss_history = []\n",
    "local_train_mse_history = []\n",
    "for i in range(1000):\n",
    "    \n",
    "    \n",
    "    # каждый минибатч будет состоять из 256 образцов\n",
    "    ix = np.random.randint(0, len(X_train), 256)\n",
    "    x_batch = X_train_torch[ix]\n",
    "    y_batch = y_train_torch[ix]\n",
    "    \n",
    "    #обучаем модель\n",
    "    y_predicted = model(x_batch)\n",
    "    \n",
    "    # считаем функцию потерь\n",
    "    loss = loss_function(y_predicted, y_batch)\n",
    "    \n",
    "    #обнуляем значение градиента\n",
    "    opt.zero_grad()\n",
    "    \n",
    "    #считаем градиент\n",
    "    loss.backward()\n",
    "    \n",
    "    #делаем шаг\n",
    "    opt.step()\n",
    "    \n",
    "    \n",
    "    #добавляем в список значение loss на train\n",
    "    local_train_loss_history.append(loss.data.numpy())\n",
    "    \n",
    "    local_train_mse_history.append(\n",
    "        mean_squared_error(y_valid_torch.detach().numpy(), model(X_valid_torch).detach().numpy()))\n",
    "    #далее каждые эпох будем добавлять в списки значения MSE \n",
    "    #на train и valid \n",
    "    if i % 100 == 0:\n",
    "        print('Epoch:', i,'LR:', lr_scheduler.get_lr())\n",
    "        val_lr.append(lr_scheduler.get_lr())\n",
    "        train_loss_history.append(np.mean(local_train_loss_history))\n",
    "        \n",
    "        predictions_val = model(X_valid_torch)\n",
    "        val_loss_history.append(loss_function(predictions_val, y_valid_torch).detach().item())\n",
    "        lr_scheduler.step()\n",
    "        print(\"step #{} | mean loss = {:.5}, valid MSE = {:.5}\".format(\n",
    "            i,\n",
    "            np.mean(history[-1]),\n",
    "            mean_squared_error(y_valid_torch.detach().numpy(), model(X_valid_torch).detach().numpy())))\n",
    "      "
   ]
  },
  {
   "cell_type": "code",
   "execution_count": 128,
   "metadata": {},
   "outputs": [],
   "source": [
    "#теперь подставим значение lr = 3.0000000000000004e-06\n",
    "opt = torch.optim.Adam(model.parameters(), lr=3.0000000000000004e-06)"
   ]
  },
  {
   "cell_type": "code",
   "execution_count": 129,
   "metadata": {},
   "outputs": [
    {
     "name": "stdout",
     "output_type": "stream",
     "text": [
      "step #0 | mean loss = 0.034174, valid MSE = 0.061796\n",
      "step #500 | mean loss = 0.020121, valid MSE = 0.053797\n",
      "step #1000 | mean loss = 0.018155, valid MSE = 0.04798\n",
      "step #1500 | mean loss = 0.016331, valid MSE = 0.043894\n",
      "step #2000 | mean loss = 0.014023, valid MSE = 0.040763\n",
      "step #2500 | mean loss = 0.010735, valid MSE = 0.038679\n",
      "step #3000 | mean loss = 0.0072845, valid MSE = 0.037028\n",
      "step #3500 | mean loss = 0.0069699, valid MSE = 0.036027\n",
      "step #4000 | mean loss = 0.011072, valid MSE = 0.035165\n",
      "step #4500 | mean loss = 0.0067284, valid MSE = 0.034165\n",
      "step #5000 | mean loss = 0.0065219, valid MSE = 0.033412\n",
      "step #5500 | mean loss = 0.0056184, valid MSE = 0.033021\n",
      "step #6000 | mean loss = 0.0044103, valid MSE = 0.032711\n",
      "step #6500 | mean loss = 0.0061928, valid MSE = 0.032361\n",
      "step #7000 | mean loss = 0.0064538, valid MSE = 0.032283\n",
      "step #7500 | mean loss = 0.0042953, valid MSE = 0.032001\n",
      "step #8000 | mean loss = 0.0048124, valid MSE = 0.031922\n",
      "step #8500 | mean loss = 0.0026266, valid MSE = 0.031813\n",
      "step #9000 | mean loss = 0.0068961, valid MSE = 0.031651\n",
      "step #9500 | mean loss = 0.0020257, valid MSE = 0.031469\n"
     ]
    }
   ],
   "source": [
    "history = []\n",
    "\n",
    "for i in range(10000):\n",
    "    \n",
    "    # каждый минибатч будет состоять из 256 образцов\n",
    "    ix = np.random.randint(0, len(X_train), 256)\n",
    "    x_batch = X_train_torch[ix]\n",
    "    y_batch = y_train_torch[ix]\n",
    "    \n",
    "    #обучаем модель\n",
    "    y_predicted = model(x_batch)\n",
    "    \n",
    "    # считаем функцию потерь\n",
    "    loss = loss_function(y_predicted, y_batch)\n",
    "    #обнуляем градиент\n",
    "    opt.zero_grad()\n",
    "    \n",
    "    \n",
    "    #считаем градиент\n",
    "    loss.backward()\n",
    "    \n",
    "    #делаем шаг\n",
    "    opt.step()\n",
    "    \n",
    "    \n",
    "    #добавляем значение\n",
    "    history.append(loss.data.numpy())\n",
    "    #выводить будем каждые 500 эпох\n",
    "    if i % 500 == 0:\n",
    "        print(\"step #{} | mean loss = {:.5}, valid MSE = {:.5}\".format(\n",
    "            i,\n",
    "            np.mean(history[-1]),\n",
    "            mean_squared_error(y_valid_torch.detach().numpy(), model(X_valid_torch).detach().numpy())))"
   ]
  },
  {
   "cell_type": "code",
   "execution_count": 155,
   "metadata": {},
   "outputs": [],
   "source": [
    "#теперь применим дропаут в модели\n",
    "model = nn.Sequential()\n",
    "#входного линейного слоя с функцией активации ReLU\n",
    "model.add_module('l1', nn.Linear(10, 100))\n",
    "model.add_module('a1', nn.ReLU())\n",
    "#после каждой функции активации добавим BatchNorm\n",
    "model.add_module('b1', nn.BatchNorm1d(100))\n",
    "#скрытый слой с функцией активации Tanh\n",
    "model.add_module('l2', nn.Linear(100, 100))\n",
    "model.add_module('d1', nn.Dropout(p=0.5))\n",
    "model.add_module('a2', nn.Tanh())\n",
    "model.add_module('b1', nn.BatchNorm1d(100))\n",
    "#скрытый слой с функцией активации ReLU\n",
    "model.add_module('l3', nn.Linear(100, 100))\n",
    "model.add_module('a3', nn.ReLU())\n",
    "model.add_module('b1', nn.BatchNorm1d(100))\n",
    "\n",
    "#model.add_module('l5', nn.Linear(100, 100))\n",
    "model.add_module('l4', nn.Linear(100, 2))\n"
   ]
  },
  {
   "cell_type": "code",
   "execution_count": 156,
   "metadata": {},
   "outputs": [],
   "source": [
    "#значение  lr увеличим до 0,03\n",
    "opt = torch.optim.Adam(model.parameters(), lr=0.03)"
   ]
  },
  {
   "cell_type": "code",
   "execution_count": 167,
   "metadata": {},
   "outputs": [
    {
     "name": "stdout",
     "output_type": "stream",
     "text": [
      "step #0 | mean loss = 0.021454, valid MSE = 0.084932\n",
      "step #500 | mean loss = 0.01069, valid MSE = 0.060027\n",
      "step #1000 | mean loss = 0.0034344, valid MSE = 0.0064998\n",
      "step #1500 | mean loss = 0.0022041, valid MSE = 0.0059258\n",
      "step #2000 | mean loss = 0.064257, valid MSE = 0.052638\n",
      "step #2500 | mean loss = 0.010795, valid MSE = 0.013871\n",
      "step #3000 | mean loss = 0.049479, valid MSE = 0.06286\n",
      "step #3500 | mean loss = 0.0026789, valid MSE = 0.010927\n",
      "step #4000 | mean loss = 0.20251, valid MSE = 0.21184\n",
      "step #4500 | mean loss = 0.0011504, valid MSE = 0.0040842\n",
      "step #5000 | mean loss = 0.2283, valid MSE = 0.21104\n",
      "step #5500 | mean loss = 0.0060028, valid MSE = 0.0067097\n",
      "step #6000 | mean loss = 0.034291, valid MSE = 0.044771\n",
      "step #6500 | mean loss = 0.012816, valid MSE = 0.012114\n",
      "step #7000 | mean loss = 0.011592, valid MSE = 0.019861\n",
      "step #7500 | mean loss = 0.0013421, valid MSE = 0.0050833\n",
      "step #8000 | mean loss = 0.0031467, valid MSE = 0.0045691\n",
      "step #8500 | mean loss = 0.0023946, valid MSE = 0.010623\n",
      "step #9000 | mean loss = 0.0015016, valid MSE = 0.006282\n",
      "step #9500 | mean loss = 0.018955, valid MSE = 0.017584\n"
     ]
    }
   ],
   "source": [
    "history_train = []\n",
    "history_valid = []\n",
    "\n",
    "for i in range(10000):\n",
    "    \n",
    "    # каждый минибатч будет состоять из 256 образцов\n",
    "    ix = np.random.randint(0, len(X_train), 256)\n",
    "    x_batch = X_train_torch[ix]\n",
    "    y_batch = y_train_torch[ix]\n",
    "    \n",
    "    #обучаем модель\n",
    "    y_predicted = model(x_batch)\n",
    "    \n",
    "    # считаем функцию потерь\n",
    "    loss = loss_function(y_predicted, y_batch)\n",
    "    #обнуляем градиент\n",
    "    opt.zero_grad()\n",
    "    \n",
    "    \n",
    "    #считаем градиент\n",
    "    loss.backward()\n",
    "    \n",
    "    #делаем шаг\n",
    "    opt.step()\n",
    "    \n",
    "    \n",
    "    #добавляем значение\n",
    "    history.append(loss.data.numpy())\n",
    "    #выводить будем каждые 500 эпох\n",
    "    if i % 500 == 0:\n",
    "        history_train.append(loss.data.numpy())\n",
    "        history_valid.append(mean_squared_error(y_valid_torch.detach().numpy(),\\\n",
    "                                                model(X_valid_torch).detach().numpy()))\n",
    "        print(\"step #{} | mean loss = {:.5}, valid MSE = {:.5}\".format(\n",
    "            i,\n",
    "            np.mean(history[-1]),\n",
    "            mean_squared_error(y_valid_torch.detach().numpy(), \\\n",
    "                               model(X_valid_torch).detach().numpy())))"
   ]
  },
  {
   "cell_type": "code",
   "execution_count": 211,
   "metadata": {},
   "outputs": [],
   "source": [
    "final_train = []\n",
    "for i in range(len(history_train)):\n",
    "    final_train.append(history_train[i].item(0))"
   ]
  },
  {
   "cell_type": "code",
   "execution_count": 212,
   "metadata": {},
   "outputs": [
    {
     "data": {
      "image/png": "[encoded data removed]",
      "text/plain": [
       "<Figure size 432x288 with 1 Axes>"
      ]
     },
     "metadata": {},
     "output_type": "display_data"
    }
   ],
   "source": [
    "#построим кривые обучения\n",
    "sns.lineplot(list(range(0,10000,500)),final_train)\n",
    "sns.lineplot(list(range(0,10000,500)),history_valid)"
   ]
  }
 ],
 "metadata": {
  "kernelspec": {
   "display_name": "Python 3",
   "language": "python",
   "name": "python3"
  },
  "language_info": {
   "codemirror_mode": {
    "name": "ipython",
    "version": 3
   },
   "file_extension": ".py",
   "mimetype": "text/x-python",
   "name": "python",
   "nbconvert_exporter": "python",
   "pygments_lexer": "ipython3",
   "version": "3.7.6"
  }
 },
 "nbformat": 4,
 "nbformat_minor": 4
}
