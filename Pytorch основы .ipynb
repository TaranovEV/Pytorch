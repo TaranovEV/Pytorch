{
 "cells": [
  {
   "cell_type": "markdown",
   "metadata": {
    "colab_type": "text",
    "id": "FRZOlL4VHJEm"
   },
   "source": [
    "# Задача 1\n",
    "\n",
    "![alt text](https://stepik.org/media/attachments/course/50352/task_2_4_graph_02.png)\n",
    "\n",
    "Рассчитайте производную $y$ по $b2$. Ответ запишите в виде python выражения. Расчитайте значение при некоторых фиксированных значениях x1, x2, b1, b2, c1, c2."
   ]
  },
  {
   "cell_type": "markdown",
   "metadata": {
    "colab_type": "text",
    "id": "7HOqvJPpUi7P"
   },
   "source": [
    "$\\frac{\\partial y}{\\partial b2} = [\\frac{\\partial y}{\\partial z8} \\cdot \\frac{\\partial z8}{\\partial z7} \\cdot \\frac{\\partial z7}{\\partial z4} \\cdot \\frac{\\partial z4}{\\partial z2} +\\frac{\\partial y}{\\partial z9} \\cdot \\frac{\\partial z9}{\\partial z6} \\cdot \\frac{\\partial z6}{\\partial z5}\\cdot \\frac{\\partial z5}{\\partial z2}]\\cdot \\frac{\\partial z2}{\\partial b2}$"
   ]
  },
  {
   "cell_type": "markdown",
   "metadata": {
    "colab_type": "text",
    "id": "zZPLXUt3VKF6"
   },
   "source": [
    "$c1 \\cdot (x1 + b1) \\cdot sigma(x2 + b2) \\cdot (1-sigma(x2 + b2))+ c2 \\cdot (-tanh(x2+b2)\\cdot tanh(x2+b2)+1)\\cdot sigma(x1+b1)$"
   ]
  },
  {
   "cell_type": "code",
   "execution_count": null,
   "metadata": {
    "colab": {
     "base_uri": "https://localhost:8080/",
     "height": 34
    },
    "colab_type": "code",
    "id": "n7NX16jgNMXf",
    "outputId": "8dc5d5fe-d519-4ab3-dbc3-f2a3e48a15fe"
   },
   "outputs": [
    {
     "name": "stdout",
     "output_type": "stream",
     "text": [
      "0.19661193324148185\n"
     ]
    }
   ],
   "source": [
    "import numpy as np\n",
    "\n",
    "\n",
    "def sigma(x):\n",
    "  # f(x) = 1 / (1 + e^(-x))\n",
    "  return 1 / (1 + np.exp(-x))\n",
    "x1,x2 = 0,1\n",
    "c1,c2 = 1,0\n",
    "b1,b2 = 1,0\n",
    "\n",
    "dif_y_b2 = c1 * (x1 + b1) * sigma(x2 + b2) * (1 - sigma(x2 + b2)) + c2 \\\n",
    "*(-np.tanh(x2+b2) * np.tanh(x2 + b2)+1) * sigma(x1+b1)\n",
    "print(dif_y_b2)\n"
   ]
  },
  {
   "cell_type": "markdown",
   "metadata": {
    "colab_type": "text",
    "id": "kVqlQvjSIEg1"
   },
   "source": [
    "# Задача 2\n",
    "Проверьте себя: запишите это же выражение при помощи pytorch, расчитайте его значение при тех же значениях x1, x2, b1, b2, c1, c2. Задем возьмите backward, и посмотрите значение b2.grad. Убедитесь, что значения совпадают."
   ]
  },
  {
   "cell_type": "markdown",
   "metadata": {
    "colab_type": "text",
    "id": "ZJPP5nTsccIz"
   },
   "source": [
    "$y = c1 \\cdot (x1 + b1) \\cdot sigma(x2 + b2) + c2 \\cdot tanh(x2+b2) \\cdot sigma(x1+b1)$"
   ]
  },
  {
   "cell_type": "code",
   "execution_count": null,
   "metadata": {
    "colab": {
     "base_uri": "https://localhost:8080/",
     "height": 52
    },
    "colab_type": "code",
    "id": "r5IQXSZuY8jb",
    "outputId": "4fda9fea-d4cf-4c2a-8188-530aeb0c26ae"
   },
   "outputs": [
    {
     "name": "stdout",
     "output_type": "stream",
     "text": [
      "tensor(0.1966)\n",
      "tensor(True)\n"
     ]
    }
   ],
   "source": [
    "import torch\n",
    "import torch.nn as nn\n",
    "x1 = torch.tensor(0.)\n",
    "x2 = torch.tensor(1.)\n",
    "c1 = torch.tensor(1.)\n",
    "c2 = torch.tensor(0.)\n",
    "b1 = torch.tensor(1.)\n",
    "b2 = torch.tensor(0., requires_grad=True)\n",
    "\n",
    "torch_sigma = nn.Sigmoid()\n",
    "torch_tanh = nn.Tanh()\n",
    "\n",
    "\n",
    "y = (x1+b1) * torch_sigma(x2+b2) * c1 \\\n",
    "                  +torch_tanh(x2+b2) * c2 * torch_sigma(x1+b1)\n",
    "\n",
    "y.backward()\n",
    "print(b2.grad)\n",
    "print(b2.grad==dif_y_b2)"
   ]
  },
  {
   "cell_type": "markdown",
   "metadata": {
    "colab_type": "text",
    "id": "1exW7Yq4IyCr"
   },
   "source": [
    "# Задача 3\n",
    "Иногда даже в PyTorch приходится вручную писать производные некоторых операций. Это иногда нужно, чтобы сэкономить вычисления или память. Мы потренируемся на простом примере: полносвязном слое. Запишите средствами pytorch, что происходит в линейном слое (одно выражение): $\\mathbf{y} = \\mathbf{A} \\mathbf{x} + \\mathbf{b}$ ($\\mathbf{A}$ -- матрица 2x3, $\\mathbf{y}, \\mathbf{x}, \\mathbf{b}$ -- векторы размеров 2, 3 и 2 cоответственно). Инициализируйте A, x и b некоторыми значениями, вектор y на выходе сравнивайте с некоторым выбранным вами вектором при помощи некоторой функции потерь (используйте, MSE). Помните, что функция потерь должна возвращать одно число.\n",
    "\n",
    "Расчитайте при помощи метода backward производную лосс функции по параметрам $\\mathbf{A}$, $\\mathbf{x}$ и $\\mathbf{b}$.\n",
    "\n"
   ]
  },
  {
   "cell_type": "code",
   "execution_count": null,
   "metadata": {
    "colab": {
     "base_uri": "https://localhost:8080/",
     "height": 225
    },
    "colab_type": "code",
    "id": "uGULAeeOen8P",
    "outputId": "37405ad8-53a8-4f12-b91b-9a04ce04207a"
   },
   "outputs": [
    {
     "name": "stdout",
     "output_type": "stream",
     "text": [
      "tensor([[32.],\n",
      "        [25.]])\n",
      "tensor([[22.],\n",
      "        [26.]], grad_fn=<AddBackward0>)\n",
      "Значение MSE: tensor(50.5000, grad_fn=<MeanBackward0>)\n",
      "tensor([[ -0., -30.,  -0.],\n",
      "        [  0.,   3.,   0.]])\n",
      "tensor([[ -17.],\n",
      "        [ -44.],\n",
      "        [-152.]])\n",
      "tensor([[-10.],\n",
      "        [  1.]])\n"
     ]
    }
   ],
   "source": [
    "import torch\n",
    "\n",
    "#рассчитаем \"правильные\" значения для сравнения\n",
    "A_true = torch.tensor([[3.0,2.0,6.0],\n",
    "                       [1.0,2.0,5.0]])\n",
    "x_true = torch.tensor([[3.0],\n",
    "                       [2.0],\n",
    "                       [2.0]])\n",
    "b_true = torch.tensor([[7.0],\n",
    "                        [8.0]])\n",
    "y_true = torch.mm(A_true,x_true)+b_true\n",
    "print(y_true)\n",
    "#далее инициализируем сравниваемый y_pred\n",
    "A_pred = torch.tensor([[2.0,5.0,17.0],\n",
    "                       [3.0,6.0,18.0]],requires_grad=True)\n",
    "x_pred = torch.tensor([[0.0],\n",
    "                       [3.0],\n",
    "                       [0.0]],requires_grad=True)\n",
    "b_pred = torch.tensor([[7.0],\n",
    "                       [8.0]],requires_grad=True)\n",
    "y_pred = torch.mm(A_pred,x_pred)+b_pred\n",
    "print(y_pred)\n",
    "loss = ((y_pred - y_true)**2).mean()\n",
    "loss.backward()\n",
    "print(\"Значение MSE:\",loss)\n",
    "print(A_pred.grad)\n",
    "print(x_pred.grad)\n",
    "print(b_pred.grad)\n"
   ]
  },
  {
   "cell_type": "markdown",
   "metadata": {
    "colab_type": "text",
    "id": "6bZWNGb3R1gr"
   },
   "source": [
    "# Задача 4\n",
    "Запишите выражения для производных лосс-функции по $\\mathbf{A}$, $\\mathbf{x}$ и $\\mathbf{b}$ при помощи numpy (или pytorch, если удобнее). Проверьте, что аналитический результат численно совпадает с тем, что расчиталось при помощи метода backward.\n",
    "\n",
    "### Для решения задачи \n",
    "пользуйтесь тем фактом, что $y_i = \\sum_j a_{ij} x_j + b_i$"
   ]
  },
  {
   "cell_type": "code",
   "execution_count": null,
   "metadata": {
    "colab": {
     "base_uri": "https://localhost:8080/",
     "height": 278
    },
    "colab_type": "code",
    "id": "M845vbr-N0gd",
    "outputId": "9b648649-170a-4504-d0b0-1ba045e074a5"
   },
   "outputs": [
    {
     "name": "stdout",
     "output_type": "stream",
     "text": [
      "Значение MSE: 50.5 tensor(True)\n",
      "[[-10.]\n",
      " [  1.]]\n",
      "[[ True]\n",
      " [ True]]\n",
      "[[  0. -30.   0.]\n",
      " [  0.   3.   0.]]\n",
      "[[ True  True  True]\n",
      " [ True  True  True]]\n",
      "[[ -17.]\n",
      " [ -44.]\n",
      " [-152.]]\n",
      "[[ True]\n",
      " [ True]\n",
      " [ True]]\n"
     ]
    }
   ],
   "source": [
    "import numpy as np\n",
    "\n",
    "A_pred_np = A_pred.detach().numpy()\n",
    "x_pred_np = x_pred.detach().numpy()\n",
    "b_pred_np = b_pred.detach().numpy()\n",
    "y_pred_np = y_pred.detach().numpy()\n",
    "\n",
    "y_true_np = y_true.detach().numpy()\n",
    "np_loss = ((y_pred_np - y_true_np)**2).mean()\n",
    "#dL/dz\n",
    "dL_dz = y_pred_np - y_true_np\n",
    "#dL/db\n",
    "dL_db = dL_dz\n",
    "#dL/dA\n",
    "dL_dA = dL_dz@x_pred_np.T\n",
    "#dL/dx\n",
    "dL_dx = A_pred_np.T@dL_dz\n",
    "\n",
    "print(\"Значение MSE:\",np_loss,np_loss==loss)\n",
    "print(dL_db,dL_db == b_pred.grad.detach().numpy(),sep='\\n')\n",
    "print(dL_dA,dL_dA == A_pred.grad.detach().numpy(),sep='\\n')\n",
    "print(dL_dx,dL_dx == x_pred.grad.detach().numpy(),sep='\\n')"
   ]
  },
  {
   "cell_type": "markdown",
   "metadata": {
    "colab_type": "text",
    "id": "axpESlkW7HSq"
   },
   "source": [
    "# Задача 5\n",
    "\n",
    "Решите задачу, в которой происходит восстановление синусоиды при помощи сети, в которой все функции активации заменены на ReLU, также замените оптимизатор с Adam на SGD и подберите оптимальный Learning Rate. Каким получается приближение функции?"
   ]
  },
  {
   "cell_type": "code",
   "execution_count": null,
   "metadata": {
    "colab": {},
    "colab_type": "code",
    "id": "odPcdPQv6cHv"
   },
   "outputs": [],
   "source": [
    "import torch\n",
    "import matplotlib.pyplot as plt\n",
    "import torch.nn as nn"
   ]
  },
  {
   "cell_type": "code",
   "execution_count": null,
   "metadata": {
    "colab": {},
    "colab_type": "code",
    "id": "6cTZISIT8UVb"
   },
   "outputs": [],
   "source": [
    "#генерируем данные синусоида+шум\n",
    "x_train = torch.rand(100)\n",
    "x_train = x_train * 20.0 - 10.0\n",
    "y_train = torch.sin(x_train)\n",
    "noise = torch.randn(y_train.shape) / 5.\n",
    "y_train = y_train + noise"
   ]
  },
  {
   "cell_type": "code",
   "execution_count": null,
   "metadata": {
    "colab": {},
    "colab_type": "code",
    "id": "RCUbuVek8iH5"
   },
   "outputs": [],
   "source": [
    "#меняем форму тензора\n",
    "x_train.unsqueeze_(1)\n",
    "y_train.unsqueeze_(1);"
   ]
  },
  {
   "cell_type": "code",
   "execution_count": null,
   "metadata": {
    "colab": {
     "base_uri": "https://localhost:8080/",
     "height": 296
    },
    "colab_type": "code",
    "id": "O9NSJuY96eWt",
    "outputId": "dfee49c6-0d35-42c2-9379-d1d6b84d0715"
   },
   "outputs": [
    {
     "data": {
      "image/png": "[encoded data removed]",
      "text/plain": [
       "<Figure size 432x288 with 1 Axes>"
      ]
     },
     "metadata": {
      "tags": []
     },
     "output_type": "display_data"
    }
   ],
   "source": [
    "#генерируем валидационную выборку без шума\n",
    "x_validation = torch.linspace(-10, 10, 100)\n",
    "y_validation = torch.sin(x_validation.data)\n",
    "plt.plot(x_validation.numpy(), y_validation.numpy(), 'o')\n",
    "plt.title('sin(x)')\n",
    "plt.xlabel('x_validation')\n",
    "plt.ylabel('y_validation');\n"
   ]
  },
  {
   "cell_type": "code",
   "execution_count": null,
   "metadata": {
    "colab": {},
    "colab_type": "code",
    "id": "8gu0AcTs7-Aa"
   },
   "outputs": [],
   "source": [
    "#также изменим форму валидационной выборки\n",
    "x_validation.unsqueeze_(1)\n",
    "y_validation.unsqueeze_(1);"
   ]
  },
  {
   "cell_type": "code",
   "execution_count": null,
   "metadata": {
    "colab": {
     "base_uri": "https://localhost:8080/",
     "height": 279
    },
    "colab_type": "code",
    "id": "1tOHRrH871Zm",
    "outputId": "ad6221c7-9dc9-4cd6-b8c8-3a20f1bd8b6f"
   },
   "outputs": [
    {
     "data": {
      "image/png": "[encoded data removed]",
      "text/plain": [
       "<Figure size 432x288 with 1 Axes>"
      ]
     },
     "metadata": {
      "tags": []
     },
     "output_type": "display_data"
    }
   ],
   "source": [
    "\n",
    "class SineNet(torch.nn.Module):\n",
    "    def __init__(self, n_hidden_neurons,init_weights=True):\n",
    "        super(SineNet, self).__init__()\n",
    "        \n",
    "        self.fc1 = torch.nn.Linear(1, n_hidden_neurons)\n",
    "        self.act1 = torch.nn.ReLU()\n",
    "        self.fc2 = torch.nn.Linear(n_hidden_neurons, n_hidden_neurons)\n",
    "        self.act2 = torch.nn.ReLU()\n",
    "        self.fc3 = torch.nn.Linear(n_hidden_neurons, n_hidden_neurons)\n",
    "        self.act3 = torch.nn.ReLU()\n",
    "        self.fc4 = torch.nn.Linear(n_hidden_neurons, 1)\n",
    "\n",
    "        if init_weights:\n",
    "            self._initialize_weights()\n",
    "\n",
    "    def forward(self, x):\n",
    "        x = self.fc1(x)\n",
    "        x = self.act1(x)\n",
    "        x = self.fc2(x)\n",
    "        x = self.act2(x)\n",
    "        x = self.fc3(x)\n",
    "        x = self.act3(x)\n",
    "        x = self.fc4(x)\n",
    "\n",
    "        return x\n",
    "\n",
    "    def _initialize_weights(self,n_hidden_neurons=400):\n",
    "      for m in self.modules():\n",
    "        if isinstance(m, nn.ReLU):\n",
    "            w = torch.empty(n_hidden_neurons, n_hidden_neurons)\n",
    "            nn.init.kaiming_normal_(w, mode='fan_out', nonlinearity='relu')\n",
    "\n",
    "#лосс функция\n",
    "loss = nn.MSELoss()\n",
    "# использовать будем 400 нейронов\n",
    "sine_net = SineNet(400)\n",
    "#функция построения графика\n",
    "def predict(net, x, y):\n",
    "    y_pred = net.forward(x)\n",
    "    plt.plot(x.numpy(), y.numpy(), 'o', label='Groud truth')\n",
    "    plt.plot(x.numpy(), y_pred.data.numpy(), 'o', c='r', label='Prediction');\n",
    "    plt.legend(loc='upper left')\n",
    "    plt.xlabel('$x$')\n",
    "    plt.ylabel('$y$')\n",
    "#в качестве оптимизатора используем SGD и lr=3e-4\n",
    "optimizer = torch.optim.SGD(sine_net.parameters(), lr=3e-4)\n",
    "for epoch_index in range(1000):\n",
    "    optimizer.zero_grad()\n",
    "    y_pred = sine_net.forward(x_train)\n",
    "    loss_val = loss(y_pred, y_train)\n",
    "    loss_val.backward()\n",
    "    optimizer.step()\n",
    "    if epoch_index % 100 == 0:\n",
    "            test_preds = sine_net.forward(x_validation)\n",
    "            \n",
    "            test_preds = test_preds.argmax(dim=1)\n",
    "              \n",
    "predict(sine_net, x_validation, y_validation)\n"
   ]
  },
  {
   "cell_type": "markdown",
   "metadata": {
    "colab_type": "text",
    "id": "bSBihnd79pch"
   },
   "source": [
    "Далее подбираем скорость обучения с помощью torch.optim.lr_scheduler -StepLR"
   ]
  },
  {
   "cell_type": "code",
   "execution_count": null,
   "metadata": {
    "colab": {},
    "colab_type": "code",
    "id": "xqAou9BX8kfK"
   },
   "outputs": [],
   "source": [
    "# использовать будем также 400 нейронов\n",
    "sine_net = SineNet(400)"
   ]
  },
  {
   "cell_type": "code",
   "execution_count": null,
   "metadata": {
    "colab": {},
    "colab_type": "code",
    "id": "vGabyvNY3rXd"
   },
   "outputs": [],
   "source": [
    "# lr=3e-6 будет начальное значение\n",
    "optimizer = torch.optim.SGD(sine_net.parameters(), lr=3e-6)"
   ]
  },
  {
   "cell_type": "code",
   "execution_count": null,
   "metadata": {
    "colab": {},
    "colab_type": "code",
    "id": "NFQPBcvO13-L"
   },
   "outputs": [],
   "source": [
    "from torch.optim.lr_scheduler import StepLR\n",
    "# далее будем увеличивать шаг в 10 раз\n",
    "scheduler = StepLR(optimizer, step_size=30, gamma=10)"
   ]
  },
  {
   "cell_type": "code",
   "execution_count": null,
   "metadata": {
    "colab": {
     "base_uri": "https://localhost:8080/",
     "height": 1000
    },
    "colab_type": "code",
    "id": "K17mH4M519XG",
    "outputId": "0c8b0c52-0a16-43af-e1f2-d29310fcf75f"
   },
   "outputs": [
    {
     "name": "stdout",
     "output_type": "stream",
     "text": [
      "Epoch: 0 LR: [3e-06] train_MSE: 0.73852897 valid_MSE: 0.6596421\n",
      "Epoch: 100 LR: [3e-06] train_MSE: 0.70210016 valid_MSE: 0.63157344\n",
      "Epoch: 200 LR: [3e-06] train_MSE: 0.6703766 valid_MSE: 0.607518\n",
      "Epoch: 300 LR: [3e-06] train_MSE: 0.6428387 valid_MSE: 0.5869761\n",
      "Epoch: 400 LR: [3e-06] train_MSE: 0.61875534 valid_MSE: 0.569331\n",
      "Epoch: 500 LR: [3e-06] train_MSE: 0.59764695 valid_MSE: 0.5541571\n",
      "Epoch: 600 LR: [3e-06] train_MSE: 0.57899654 valid_MSE: 0.5410158\n",
      "Epoch: 700 LR: [3e-06] train_MSE: 0.5624377 valid_MSE: 0.5295914\n",
      "Epoch: 800 LR: [3e-06] train_MSE: 0.5476927 valid_MSE: 0.5196413\n",
      "Epoch: 900 LR: [3e-06] train_MSE: 0.5345826 valid_MSE: 0.511003\n",
      "Epoch: 1000 LR: [3e-06] train_MSE: 0.5228699 valid_MSE: 0.50347966\n",
      "Epoch: 1100 LR: [3e-06] train_MSE: 0.5123675 valid_MSE: 0.49691457\n",
      "Epoch: 1200 LR: [3e-06] train_MSE: 0.5030193 valid_MSE: 0.49124214\n",
      "Epoch: 1300 LR: [3e-06] train_MSE: 0.49469557 valid_MSE: 0.48634845\n",
      "Epoch: 1400 LR: [3e-06] train_MSE: 0.48727676 valid_MSE: 0.4821297\n",
      "Epoch: 1500 LR: [3e-06] train_MSE: 0.48064208 valid_MSE: 0.47849235\n",
      "Epoch: 1600 LR: [3e-06] train_MSE: 0.47469512 valid_MSE: 0.47535607\n",
      "Epoch: 1700 LR: [3e-06] train_MSE: 0.46935692 valid_MSE: 0.47265366\n",
      "Epoch: 1800 LR: [3e-06] train_MSE: 0.46457443 valid_MSE: 0.47034097\n",
      "Epoch: 1900 LR: [3e-06] train_MSE: 0.4603167 valid_MSE: 0.46837988\n",
      "Epoch: 2000 LR: [3e-06] train_MSE: 0.45646805 valid_MSE: 0.46669215\n",
      "Epoch: 2100 LR: [3e-06] train_MSE: 0.45298854 valid_MSE: 0.4652489\n",
      "Epoch: 2200 LR: [3e-06] train_MSE: 0.4498437 valid_MSE: 0.4640205\n",
      "Epoch: 2300 LR: [3e-06] train_MSE: 0.44699708 valid_MSE: 0.4629763\n",
      "Epoch: 2400 LR: [3e-06] train_MSE: 0.4444177 valid_MSE: 0.4620949\n",
      "Epoch: 2500 LR: [3e-06] train_MSE: 0.44208014 valid_MSE: 0.46135616\n",
      "Epoch: 2600 LR: [3e-06] train_MSE: 0.43995747 valid_MSE: 0.46073818\n",
      "Epoch: 2700 LR: [3e-06] train_MSE: 0.43802443 valid_MSE: 0.46022424\n",
      "Epoch: 2800 LR: [3e-06] train_MSE: 0.43626252 valid_MSE: 0.45980182\n",
      "Epoch: 2900 LR: [3e-06] train_MSE: 0.43465468 valid_MSE: 0.45945928\n",
      "Epoch: 3000 LR: [0.00030000000000000003] train_MSE: 0.42446923 valid_MSE: 0.45867237\n",
      "Epoch: 3100 LR: [3e-05] train_MSE: 0.41988608 valid_MSE: 0.4596385\n",
      "Epoch: 3200 LR: [3e-05] train_MSE: 0.41752324 valid_MSE: 0.46062514\n",
      "Epoch: 3300 LR: [3e-05] train_MSE: 0.41611636 valid_MSE: 0.46126997\n",
      "Epoch: 3400 LR: [3e-05] train_MSE: 0.41517478 valid_MSE: 0.46159297\n",
      "Epoch: 3500 LR: [3e-05] train_MSE: 0.41445354 valid_MSE: 0.46166506\n",
      "Epoch: 3600 LR: [3e-05] train_MSE: 0.41384903 valid_MSE: 0.46159148\n",
      "Epoch: 3700 LR: [3e-05] train_MSE: 0.4133176 valid_MSE: 0.46143723\n",
      "Epoch: 3800 LR: [3e-05] train_MSE: 0.41282982 valid_MSE: 0.46123517\n",
      "Epoch: 3900 LR: [3e-05] train_MSE: 0.41239053 valid_MSE: 0.46099263\n",
      "Epoch: 4000 LR: [3e-05] train_MSE: 0.4119625 valid_MSE: 0.46072048\n",
      "Epoch: 4100 LR: [3e-05] train_MSE: 0.41155994 valid_MSE: 0.46044594\n",
      "Epoch: 4200 LR: [3e-05] train_MSE: 0.41117507 valid_MSE: 0.4601698\n",
      "Epoch: 4300 LR: [3e-05] train_MSE: 0.41079974 valid_MSE: 0.45990157\n",
      "Epoch: 4400 LR: [3e-05] train_MSE: 0.4104347 valid_MSE: 0.4596352\n",
      "Epoch: 4500 LR: [3e-05] train_MSE: 0.41008297 valid_MSE: 0.45937207\n",
      "Epoch: 4600 LR: [3e-05] train_MSE: 0.4097422 valid_MSE: 0.4591149\n",
      "Epoch: 4700 LR: [3e-05] train_MSE: 0.40941456 valid_MSE: 0.45885482\n",
      "Epoch: 4800 LR: [3e-05] train_MSE: 0.40909585 valid_MSE: 0.45860198\n",
      "Epoch: 4900 LR: [3e-05] train_MSE: 0.40876678 valid_MSE: 0.45832017\n",
      "Epoch: 5000 LR: [3e-05] train_MSE: 0.40843728 valid_MSE: 0.4580329\n",
      "Epoch: 5100 LR: [3e-05] train_MSE: 0.4081283 valid_MSE: 0.45779172\n",
      "Epoch: 5200 LR: [3e-05] train_MSE: 0.40782416 valid_MSE: 0.4575513\n",
      "Epoch: 5300 LR: [3e-05] train_MSE: 0.40752494 valid_MSE: 0.4573114\n",
      "Epoch: 5400 LR: [3e-05] train_MSE: 0.40722722 valid_MSE: 0.45707074\n",
      "Epoch: 5500 LR: [3e-05] train_MSE: 0.40693 valid_MSE: 0.45683026\n",
      "Epoch: 5600 LR: [3e-05] train_MSE: 0.40663788 valid_MSE: 0.4565911\n",
      "Epoch: 5700 LR: [3e-05] train_MSE: 0.40635043 valid_MSE: 0.45635697\n",
      "Epoch: 5800 LR: [3e-05] train_MSE: 0.40606755 valid_MSE: 0.45612758\n",
      "Epoch: 5900 LR: [3e-05] train_MSE: 0.40578786 valid_MSE: 0.45590296\n",
      "Epoch: 6000 LR: [0.003] train_MSE: 0.40322796 valid_MSE: 0.45388222\n",
      "Epoch: 6100 LR: [0.00030000000000000003] train_MSE: 0.4009281 valid_MSE: 0.45210657\n",
      "Epoch: 6200 LR: [0.00030000000000000003] train_MSE: 0.3988883 valid_MSE: 0.45042053\n",
      "Epoch: 6300 LR: [0.00030000000000000003] train_MSE: 0.39699298 valid_MSE: 0.44888073\n",
      "Epoch: 6400 LR: [0.00030000000000000003] train_MSE: 0.39518085 valid_MSE: 0.4473858\n",
      "Epoch: 6500 LR: [0.00030000000000000003] train_MSE: 0.3933873 valid_MSE: 0.445894\n",
      "Epoch: 6600 LR: [0.00030000000000000003] train_MSE: 0.39160958 valid_MSE: 0.44443253\n",
      "Epoch: 6700 LR: [0.00030000000000000003] train_MSE: 0.38990766 valid_MSE: 0.44307652\n",
      "Epoch: 6800 LR: [0.00030000000000000003] train_MSE: 0.3883397 valid_MSE: 0.44187275\n",
      "Epoch: 6900 LR: [0.00030000000000000003] train_MSE: 0.38674587 valid_MSE: 0.44064277\n",
      "Epoch: 7000 LR: [0.00030000000000000003] train_MSE: 0.3851863 valid_MSE: 0.43943942\n",
      "Epoch: 7100 LR: [0.00030000000000000003] train_MSE: 0.38359272 valid_MSE: 0.43818605\n",
      "Epoch: 7200 LR: [0.00030000000000000003] train_MSE: 0.3819985 valid_MSE: 0.43691128\n",
      "Epoch: 7300 LR: [0.00030000000000000003] train_MSE: 0.38040116 valid_MSE: 0.43562558\n",
      "Epoch: 7400 LR: [0.00030000000000000003] train_MSE: 0.37883133 valid_MSE: 0.4343785\n",
      "Epoch: 7500 LR: [0.00030000000000000003] train_MSE: 0.37738597 valid_MSE: 0.43324092\n",
      "Epoch: 7600 LR: [0.00030000000000000003] train_MSE: 0.3759719 valid_MSE: 0.4320959\n",
      "Epoch: 7700 LR: [0.00030000000000000003] train_MSE: 0.37456512 valid_MSE: 0.43094838\n",
      "Epoch: 7800 LR: [0.00030000000000000003] train_MSE: 0.37311685 valid_MSE: 0.42974198\n",
      "Epoch: 7900 LR: [0.00030000000000000003] train_MSE: 0.37166747 valid_MSE: 0.4285368\n",
      "Epoch: 8000 LR: [0.00030000000000000003] train_MSE: 0.37017354 valid_MSE: 0.42729855\n",
      "Epoch: 8100 LR: [0.00030000000000000003] train_MSE: 0.36867955 valid_MSE: 0.42606574\n",
      "Epoch: 8200 LR: [0.00030000000000000003] train_MSE: 0.36724624 valid_MSE: 0.42489028\n",
      "Epoch: 8300 LR: [0.00030000000000000003] train_MSE: 0.3658293 valid_MSE: 0.42375454\n",
      "Epoch: 8400 LR: [0.00030000000000000003] train_MSE: 0.36446103 valid_MSE: 0.42265582\n",
      "Epoch: 8500 LR: [0.00030000000000000003] train_MSE: 0.363128 valid_MSE: 0.42156166\n",
      "Epoch: 8600 LR: [0.00030000000000000003] train_MSE: 0.36182326 valid_MSE: 0.42048573\n",
      "Epoch: 8700 LR: [0.00030000000000000003] train_MSE: 0.3605442 valid_MSE: 0.41942215\n",
      "Epoch: 8800 LR: [0.00030000000000000003] train_MSE: 0.35926604 valid_MSE: 0.4183441\n",
      "Epoch: 8900 LR: [0.00030000000000000003] train_MSE: 0.35798004 valid_MSE: 0.41725117\n",
      "Epoch: 9000 LR: [0.03] train_MSE: 0.34565935 valid_MSE: 0.40653142\n",
      "Epoch: 9100 LR: [0.003] train_MSE: 0.33331168 valid_MSE: 0.39495555\n",
      "Epoch: 9200 LR: [0.003] train_MSE: 0.32062244 valid_MSE: 0.38207352\n",
      "Epoch: 9300 LR: [0.003] train_MSE: 0.30748641 valid_MSE: 0.36843404\n",
      "Epoch: 9400 LR: [0.003] train_MSE: 0.29394278 valid_MSE: 0.3535946\n",
      "Epoch: 9500 LR: [0.003] train_MSE: 0.28039867 valid_MSE: 0.3372322\n",
      "Epoch: 9600 LR: [0.003] train_MSE: 0.26703757 valid_MSE: 0.32095927\n",
      "Epoch: 9700 LR: [0.003] train_MSE: 0.25966156 valid_MSE: 0.2994646\n",
      "Epoch: 9800 LR: [0.003] train_MSE: 0.2584625 valid_MSE: 0.28569373\n",
      "Epoch: 9900 LR: [0.003] train_MSE: 0.25878307 valid_MSE: 0.27666655\n"
     ]
    }
   ],
   "source": [
    "from sklearn.metrics import mean_squared_error\n",
    "for epoch_index in range(10000):\n",
    "    optimizer.zero_grad()\n",
    "    y_pred = sine_net.forward(x_train)\n",
    "    loss_val = loss(y_pred, y_train)\n",
    "    loss_val.backward()\n",
    "    optimizer.step()\n",
    "    if epoch_index % 100 == 0:\n",
    "            \n",
    "            val_preds = sine_net.forward(x_validation)\n",
    "            train_MSE = mean_squared_error(y_train.detach().numpy(),\\\n",
    "                                           y_pred.detach().numpy())\n",
    "            valid_MSE = mean_squared_error(y_validation.detach().numpy(),\\\n",
    "                                           val_preds.detach().numpy())\n",
    "            print('Epoch:', epoch_index,'LR:', scheduler.get_lr(),\\\n",
    "                  'train_MSE:',train_MSE,'valid_MSE:',valid_MSE)\n",
    "            \n",
    "            scheduler.step()"
   ]
  },
  {
   "cell_type": "markdown",
   "metadata": {
    "colab_type": "text",
    "id": "sIPD2wL2D3NG"
   },
   "source": [
    "Было заметно уменьшение ошибки при шаге 0,003. Посмотрим на конечный результат при данном шаге"
   ]
  },
  {
   "cell_type": "code",
   "execution_count": null,
   "metadata": {
    "colab": {},
    "colab_type": "code",
    "id": "OqYeSZK5_Xts"
   },
   "outputs": [],
   "source": [
    "sine_net = SineNet(400)"
   ]
  },
  {
   "cell_type": "code",
   "execution_count": null,
   "metadata": {
    "colab": {},
    "colab_type": "code",
    "id": "1hdnYtWz-qPU"
   },
   "outputs": [],
   "source": [
    "optimizer = torch.optim.SGD(sine_net.parameters(), lr=3e-3)"
   ]
  },
  {
   "cell_type": "code",
   "execution_count": null,
   "metadata": {
    "colab": {
     "base_uri": "https://localhost:8080/",
     "height": 364
    },
    "colab_type": "code",
    "id": "2flEpICO-5Ja",
    "outputId": "768c47cd-926a-4f07-e051-8fb5d8d402d5"
   },
   "outputs": [
    {
     "name": "stdout",
     "output_type": "stream",
     "text": [
      "Epoch: 0 LR: train_MSE: 0.45800886 valid_MSE: 0.4884396\n",
      "Epoch: 1000 LR: train_MSE: 0.28524697 valid_MSE: 0.2996739\n",
      "Epoch: 2000 LR: train_MSE: 0.19610673 valid_MSE: 0.2023878\n",
      "Epoch: 3000 LR: train_MSE: 0.17587094 valid_MSE: 0.16721351\n",
      "Epoch: 4000 LR: train_MSE: 0.14819959 valid_MSE: 0.13810417\n",
      "Epoch: 5000 LR: train_MSE: 0.12650795 valid_MSE: 0.10803422\n",
      "Epoch: 6000 LR: train_MSE: 0.10034493 valid_MSE: 0.08057874\n",
      "Epoch: 7000 LR: train_MSE: 0.081663325 valid_MSE: 0.06048802\n",
      "Epoch: 8000 LR: train_MSE: 0.08066456 valid_MSE: 0.055354748\n",
      "Epoch: 9000 LR: train_MSE: 0.05489237 valid_MSE: 0.036048926\n",
      "Epoch: 10000 LR: train_MSE: 0.05113057 valid_MSE: 0.03293043\n",
      "Epoch: 11000 LR: train_MSE: 0.053801574 valid_MSE: 0.034399223\n",
      "Epoch: 12000 LR: train_MSE: 0.04025126 valid_MSE: 0.023159172\n",
      "Epoch: 13000 LR: train_MSE: 0.049241632 valid_MSE: 0.030407652\n",
      "Epoch: 14000 LR: train_MSE: 0.035216294 valid_MSE: 0.019170005\n",
      "Epoch: 15000 LR: train_MSE: 0.038719315 valid_MSE: 0.021660708\n",
      "Epoch: 16000 LR: train_MSE: 0.03597797 valid_MSE: 0.019991027\n",
      "Epoch: 17000 LR: train_MSE: 0.035724193 valid_MSE: 0.01978516\n",
      "Epoch: 18000 LR: train_MSE: 0.03873831 valid_MSE: 0.022141697\n",
      "Epoch: 19000 LR: train_MSE: 0.033308443 valid_MSE: 0.01810316\n"
     ]
    }
   ],
   "source": [
    "# увеличим количество шагов до 20 000\n",
    "for epoch_index in range(20000):\n",
    "    optimizer.zero_grad()\n",
    "    y_pred = sine_net.forward(x_train)\n",
    "    loss_val = loss(y_pred, y_train)\n",
    "    loss_val.backward()\n",
    "    optimizer.step()\n",
    "    if epoch_index % 1000 == 0:\n",
    "            \n",
    "            val_preds = sine_net.forward(x_validation)\n",
    "            train_MSE = mean_squared_error(y_train.detach().numpy(),\\\n",
    "                                           y_pred.detach().numpy())\n",
    "            valid_MSE = mean_squared_error(y_validation.detach().numpy(),\\\n",
    "                                           val_preds.detach().numpy())\n",
    "            print('Epoch:', epoch_index,'LR:',\\\n",
    "                  'train_MSE:',train_MSE,'valid_MSE:',valid_MSE)"
   ]
  },
  {
   "cell_type": "code",
   "execution_count": null,
   "metadata": {
    "colab": {
     "base_uri": "https://localhost:8080/",
     "height": 279
    },
    "colab_type": "code",
    "id": "OvTIhYraj4OG",
    "outputId": "da014c22-6228-4cda-90d2-0dedc637c4d0"
   },
   "outputs": [
    {
     "data": {
      "image/png": "[encoded data removed]",
      "text/plain": [
       "<Figure size 432x288 with 1 Axes>"
      ]
     },
     "metadata": {
      "tags": []
     },
     "output_type": "display_data"
    }
   ],
   "source": [
    "# посмотрим на конечный результат\n",
    "predict(sine_net, x_validation, y_validation)"
   ]
  },
  {
   "cell_type": "markdown",
   "metadata": {
    "colab_type": "text",
    "id": "i6gBUXii7mfL"
   },
   "source": [
    "# Задача 6\n",
    "\n",
    "По примеру задачи Wine решите задачу Titanic (классификация на 2 класса: выжил-не выжил). Добейтесь максимального качества используя сигмоидную функцию активации (соответственно, один выход из нейронной сети) и SoftMax (два выхода из нейронной сети)."
   ]
  },
  {
   "cell_type": "code",
   "execution_count": null,
   "metadata": {
    "colab": {},
    "colab_type": "code",
    "id": "ItUkgR2nQ0K0"
   },
   "outputs": [],
   "source": [
    "from sklearn import preprocessing\n",
    "from sklearn.preprocessing import StandardScaler\n",
    "from sklearn.model_selection import train_test_split\n",
    "import pandas as pd\n",
    "import numpy as np\n",
    "import random\n",
    "import torch\n",
    "#фиксируем последовательности библиотек random\n",
    "random.seed(0)\n",
    "np.random.seed(0)\n",
    "torch.cuda.manual_seed(0)\n",
    "torch.backends.cudnn.deterministic = True\n"
   ]
  },
  {
   "cell_type": "code",
   "execution_count": null,
   "metadata": {
    "colab": {},
    "colab_type": "code",
    "id": "CsFbye0ARb-t"
   },
   "outputs": [],
   "source": [
    "# загружаем данные\n",
    "df = pd.read_csv(\"http://bit.ly/kaggletrain\",index_col='PassengerId')"
   ]
  },
  {
   "cell_type": "code",
   "execution_count": 3,
   "metadata": {
    "colab": {
     "base_uri": "https://localhost:8080/",
     "height": 225
    },
    "colab_type": "code",
    "id": "3I2_vR1p8JwI",
    "outputId": "ea1061a6-0c30-4a3e-d4cb-a666b75b8912"
   },
   "outputs": [
    {
     "data": {
      "text/plain": [
       "Survived      0\n",
       "Pclass        0\n",
       "Name          0\n",
       "Sex           0\n",
       "Age         177\n",
       "SibSp         0\n",
       "Parch         0\n",
       "Ticket        0\n",
       "Fare          0\n",
       "Cabin       687\n",
       "Embarked      2\n",
       "dtype: int64"
      ]
     },
     "execution_count": 3,
     "metadata": {
      "tags": []
     },
     "output_type": "execute_result"
    }
   ],
   "source": [
    "# смотрим пропуски\n",
    "df.isnull().sum()"
   ]
  },
  {
   "cell_type": "code",
   "execution_count": null,
   "metadata": {
    "colab": {},
    "colab_type": "code",
    "id": "Nk-ze9AYdHvV"
   },
   "outputs": [],
   "source": [
    "# признак Embarked заполним модой\n",
    "df.Embarked.fillna(df.Embarked.mode()[0], inplace = True)"
   ]
  },
  {
   "cell_type": "code",
   "execution_count": null,
   "metadata": {
    "colab": {},
    "colab_type": "code",
    "id": "7O9pPDvld_oK"
   },
   "outputs": [],
   "source": [
    "# признак Age заполним медианой\n",
    "df.Age.fillna(df.Age.median(), inplace = True)"
   ]
  },
  {
   "cell_type": "code",
   "execution_count": null,
   "metadata": {
    "colab": {},
    "colab_type": "code",
    "id": "C-FGGzMXLe_R"
   },
   "outputs": [],
   "source": [
    "df.drop(['Pclass', 'Fare','Cabin', 'Name', 'Ticket', 'SibSp', 'Parch'], axis=1, inplace=True)"
   ]
  },
  {
   "cell_type": "code",
   "execution_count": null,
   "metadata": {
    "colab": {},
    "colab_type": "code",
    "id": "YoRGEqPceNGS"
   },
   "outputs": [],
   "source": [
    "# признак Sex кодируем LabelEncoder\n",
    "df['Sex'] = preprocessing.LabelEncoder().fit_transform(df['Sex'])\n",
    "# остальные категориальные признаки кодируем OHE\n",
    "new_data = pd.get_dummies(df, columns=['Embarked'])"
   ]
  },
  {
   "cell_type": "code",
   "execution_count": null,
   "metadata": {
    "colab": {},
    "colab_type": "code",
    "id": "35enQ3Ltkggv"
   },
   "outputs": [],
   "source": [
    "# разбиваем данные\n",
    "X = new_data.drop(['Survived'], axis=1)\n",
    "y = new_data['Survived']"
   ]
  },
  {
   "cell_type": "code",
   "execution_count": null,
   "metadata": {
    "colab": {},
    "colab_type": "code",
    "id": "rp97bOIdzS0D"
   },
   "outputs": [],
   "source": [
    "# делаем сброс индексов\n",
    "X.reset_index(drop=True, inplace=True)\n",
    "y.reset_index(drop=True, inplace=True)"
   ]
  },
  {
   "cell_type": "code",
   "execution_count": null,
   "metadata": {
    "colab": {},
    "colab_type": "code",
    "id": "Smtt4w36Df79"
   },
   "outputs": [],
   "source": [
    "scaler = StandardScaler()\n",
    "age_scaler = scaler.fit_transform(X['Age'].values.reshape(-1, 1))\n",
    "X['Age'] = age_scaler"
   ]
  },
  {
   "cell_type": "code",
   "execution_count": null,
   "metadata": {
    "colab": {},
    "colab_type": "code",
    "id": "bVJMk3o4M-J6"
   },
   "outputs": [],
   "source": [
    "# переводим формат\n",
    "X = torch.tensor(X.values.astype(np.float32))\n",
    "y = torch.LongTensor(y.values)"
   ]
  },
  {
   "cell_type": "markdown",
   "metadata": {
    "colab_type": "text",
    "id": "_LKDDasWOdpj"
   },
   "source": [
    "Далее данные разбивать будем на 3 части:\n",
    "1. 60% - train\n",
    "2. 20% - valid\n",
    "3. 20% - test\n",
    "\n"
   ]
  },
  {
   "cell_type": "code",
   "execution_count": null,
   "metadata": {
    "colab": {},
    "colab_type": "code",
    "id": "53i5HOjXgHMp"
   },
   "outputs": [],
   "source": [
    "X_train, X_test_valid, y_train, y_test_valid = train_test_split(\n",
    "    X, \n",
    "    y, \n",
    "    test_size=0.4, \n",
    "    shuffle=True)"
   ]
  },
  {
   "cell_type": "code",
   "execution_count": null,
   "metadata": {
    "colab": {},
    "colab_type": "code",
    "id": "r4XYI2pzcJJO"
   },
   "outputs": [],
   "source": [
    "X_test, X_valid, y_test, y_valid = train_test_split(\n",
    "    X_test_valid, \n",
    "    y_test_valid, \n",
    "    test_size=0.5, \n",
    "    shuffle=True)"
   ]
  },
  {
   "cell_type": "code",
   "execution_count": null,
   "metadata": {
    "colab": {},
    "colab_type": "code",
    "id": "3nb7tUw9xZtS"
   },
   "outputs": [],
   "source": [
    "device = torch.device('cuda') if torch.cuda.is_available() else torch.device('cpu')"
   ]
  },
  {
   "cell_type": "markdown",
   "metadata": {
    "colab_type": "text",
    "id": "bZbzUJoucpWt"
   },
   "source": [
    "SOftMax"
   ]
  },
  {
   "cell_type": "code",
   "execution_count": null,
   "metadata": {
    "colab": {},
    "colab_type": "code",
    "id": "qOE5oVBJlENh"
   },
   "outputs": [],
   "source": [
    "class TitanicNet(torch.nn.Module):\n",
    "    def __init__(self, n_hidden_neurons):\n",
    "        super(TitanicNet, self).__init__()\n",
    "        \n",
    "        self.fc1 = torch.nn.Linear(5, n_hidden_neurons)\n",
    "        self.activ1 = torch.nn.Sigmoid()\n",
    "        #после каждой функции активации добавим BatchNorm\n",
    "        self.bn1 = torch.nn.BatchNorm1d(n_hidden_neurons)\n",
    "        self.fc2 = torch.nn.Linear(n_hidden_neurons, n_hidden_neurons)\n",
    "        self.activ2 = torch.nn.Sigmoid()\n",
    "        self.bn2 = torch.nn.BatchNorm1d(n_hidden_neurons)\n",
    "        self.fc3 = torch.nn.Linear(n_hidden_neurons, 2)\n",
    "        \n",
    "        \n",
    "    def forward(self, x):\n",
    "        x = self.fc1(x)\n",
    "        x = self.activ1(x)\n",
    "        x = self.bn1(x)\n",
    "        x = self.fc2(x)\n",
    "        x = self.activ2(x)\n",
    "        x = self.bn2(x)\n",
    "        x = self.fc3(x)\n",
    "        \n",
    "        return x\n",
    "\n",
    "        \n",
    "Titane_net = TitanicNet(5).to(device)"
   ]
  },
  {
   "cell_type": "code",
   "execution_count": null,
   "metadata": {
    "colab": {},
    "colab_type": "code",
    "id": "RSidqNofwY0e"
   },
   "outputs": [],
   "source": [
    "loss = torch.nn.CrossEntropyLoss()\n",
    "\n",
    "optimizer = torch.optim.Adam(Titane_net.parameters(), \n",
    "                             lr=3e-4)"
   ]
  },
  {
   "cell_type": "code",
   "execution_count": null,
   "metadata": {
    "colab": {
     "base_uri": "https://localhost:8080/",
     "height": 191
    },
    "colab_type": "code",
    "id": "F-zVrUxVwdAC",
    "outputId": "03037fb8-eaa2-4ae8-f076-7ab994bed68c"
   },
   "outputs": [
    {
     "name": "stdout",
     "output_type": "stream",
     "text": [
      "tensor(0.7542, device='cuda:0')\n",
      "tensor(0.7542, device='cuda:0')\n",
      "tensor(0.7542, device='cuda:0')\n",
      "tensor(0.7542, device='cuda:0')\n",
      "tensor(0.7542, device='cuda:0')\n",
      "tensor(0.7542, device='cuda:0')\n",
      "tensor(0.7542, device='cuda:0')\n",
      "tensor(0.7598, device='cuda:0')\n",
      "tensor(0.7598, device='cuda:0')\n",
      "tensor(0.7598, device='cuda:0')\n"
     ]
    }
   ],
   "source": [
    "batch_size = 16\n",
    "\n",
    "for epoch in range(1000):\n",
    "    order = np.random.permutation(len(X_train))\n",
    "    for start_index in range(0, len(X_train), batch_size):\n",
    "        optimizer.zero_grad()\n",
    "        \n",
    "        batch_indexes = order[start_index:start_index+batch_size]\n",
    "        \n",
    "        x_batch = X_train[batch_indexes].to(device)\n",
    "        y_batch = y_train[batch_indexes].to(device)\n",
    "        \n",
    "        preds = Titane_net.forward(x_batch)\n",
    "        \n",
    "        loss_value = loss(preds, y_batch)\n",
    "        loss_value.backward()\n",
    "        \n",
    "        optimizer.step()\n",
    "        \n",
    "    if epoch % 100 == 0:\n",
    "        valid_preds = Titane_net.forward(X_valid.to(device))\n",
    "        valid_preds = valid_preds.argmax(dim=1)\n",
    "        print((valid_preds == y_valid.to(device)).float().mean())"
   ]
  },
  {
   "cell_type": "code",
   "execution_count": null,
   "metadata": {
    "colab": {},
    "colab_type": "code",
    "id": "BWJ6hjy5eaq6"
   },
   "outputs": [],
   "source": [
    "#попробуем подобрать скорость обучения\n",
    "Titane_net = TitanicNet(5).to(device)"
   ]
  },
  {
   "cell_type": "code",
   "execution_count": null,
   "metadata": {
    "colab": {},
    "colab_type": "code",
    "id": "IiV0_9zQe62d"
   },
   "outputs": [],
   "source": [
    "loss = torch.nn.CrossEntropyLoss()\n",
    "\n",
    "optimizer = torch.optim.Adam(Titane_net.parameters(), \n",
    "                             lr=3e-2)"
   ]
  },
  {
   "cell_type": "code",
   "execution_count": null,
   "metadata": {
    "colab": {},
    "colab_type": "code",
    "id": "dwuOlHbjeavm"
   },
   "outputs": [],
   "source": [
    "from torch.optim.lr_scheduler import StepLR\n",
    "# далее будем уменьшать шаг в 10 раз\n",
    "scheduler = StepLR(optimizer, step_size=10, gamma=0.1)"
   ]
  },
  {
   "cell_type": "code",
   "execution_count": null,
   "metadata": {
    "colab": {
     "base_uri": "https://localhost:8080/",
     "height": 1000
    },
    "colab_type": "code",
    "id": "B4pnHE_sea08",
    "outputId": "c96e5514-e93b-491b-cdca-1389b26e86c6"
   },
   "outputs": [
    {
     "name": "stdout",
     "output_type": "stream",
     "text": [
      "train: tensor(0.7921, device='cuda:0') valid: tensor(0.7542, device='cuda:0') LR: [0.03]\n",
      "train: tensor(0.7940, device='cuda:0') valid: tensor(0.7542, device='cuda:0') LR: [0.03]\n",
      "train: tensor(0.7996, device='cuda:0') valid: tensor(0.7765, device='cuda:0') LR: [0.03]\n",
      "train: tensor(0.8052, device='cuda:0') valid: tensor(0.7765, device='cuda:0') LR: [0.03]\n",
      "train: tensor(0.7940, device='cuda:0') valid: tensor(0.7598, device='cuda:0') LR: [0.03]\n",
      "train: tensor(0.8015, device='cuda:0') valid: tensor(0.7765, device='cuda:0') LR: [0.03]\n",
      "train: tensor(0.8034, device='cuda:0') valid: tensor(0.7765, device='cuda:0') LR: [0.03]\n",
      "train: tensor(0.8034, device='cuda:0') valid: tensor(0.7765, device='cuda:0') LR: [0.03]\n",
      "train: tensor(0.8090, device='cuda:0') valid: tensor(0.7765, device='cuda:0') LR: [0.03]\n",
      "train: tensor(0.8071, device='cuda:0') valid: tensor(0.7654, device='cuda:0') LR: [0.03]\n",
      "train: tensor(0.8071, device='cuda:0') valid: tensor(0.7765, device='cuda:0') LR: [0.00030000000000000003]\n",
      "train: tensor(0.8052, device='cuda:0') valid: tensor(0.7765, device='cuda:0') LR: [0.003]\n",
      "train: tensor(0.8052, device='cuda:0') valid: tensor(0.7709, device='cuda:0') LR: [0.003]\n",
      "train: tensor(0.8090, device='cuda:0') valid: tensor(0.7709, device='cuda:0') LR: [0.003]\n",
      "train: tensor(0.8090, device='cuda:0') valid: tensor(0.7709, device='cuda:0') LR: [0.003]\n",
      "train: tensor(0.8071, device='cuda:0') valid: tensor(0.7598, device='cuda:0') LR: [0.003]\n",
      "train: tensor(0.8052, device='cuda:0') valid: tensor(0.7765, device='cuda:0') LR: [0.003]\n",
      "train: tensor(0.8034, device='cuda:0') valid: tensor(0.7765, device='cuda:0') LR: [0.003]\n",
      "train: tensor(0.8071, device='cuda:0') valid: tensor(0.7654, device='cuda:0') LR: [0.003]\n",
      "train: tensor(0.8034, device='cuda:0') valid: tensor(0.7765, device='cuda:0') LR: [0.003]\n",
      "train: tensor(0.8034, device='cuda:0') valid: tensor(0.7765, device='cuda:0') LR: [3.0000000000000004e-05]\n",
      "train: tensor(0.8034, device='cuda:0') valid: tensor(0.7765, device='cuda:0') LR: [0.00030000000000000003]\n",
      "train: tensor(0.8034, device='cuda:0') valid: tensor(0.7765, device='cuda:0') LR: [0.00030000000000000003]\n",
      "train: tensor(0.8052, device='cuda:0') valid: tensor(0.7765, device='cuda:0') LR: [0.00030000000000000003]\n",
      "train: tensor(0.8052, device='cuda:0') valid: tensor(0.7765, device='cuda:0') LR: [0.00030000000000000003]\n",
      "train: tensor(0.8052, device='cuda:0') valid: tensor(0.7765, device='cuda:0') LR: [0.00030000000000000003]\n",
      "train: tensor(0.8052, device='cuda:0') valid: tensor(0.7765, device='cuda:0') LR: [0.00030000000000000003]\n",
      "train: tensor(0.8052, device='cuda:0') valid: tensor(0.7765, device='cuda:0') LR: [0.00030000000000000003]\n",
      "train: tensor(0.8052, device='cuda:0') valid: tensor(0.7765, device='cuda:0') LR: [0.00030000000000000003]\n",
      "train: tensor(0.8052, device='cuda:0') valid: tensor(0.7709, device='cuda:0') LR: [0.00030000000000000003]\n",
      "train: tensor(0.8052, device='cuda:0') valid: tensor(0.7765, device='cuda:0') LR: [3.0000000000000005e-06]\n",
      "train: tensor(0.8052, device='cuda:0') valid: tensor(0.7765, device='cuda:0') LR: [3.0000000000000004e-05]\n",
      "train: tensor(0.8052, device='cuda:0') valid: tensor(0.7765, device='cuda:0') LR: [3.0000000000000004e-05]\n",
      "train: tensor(0.8052, device='cuda:0') valid: tensor(0.7765, device='cuda:0') LR: [3.0000000000000004e-05]\n",
      "train: tensor(0.8052, device='cuda:0') valid: tensor(0.7765, device='cuda:0') LR: [3.0000000000000004e-05]\n",
      "train: tensor(0.8052, device='cuda:0') valid: tensor(0.7765, device='cuda:0') LR: [3.0000000000000004e-05]\n",
      "train: tensor(0.8052, device='cuda:0') valid: tensor(0.7765, device='cuda:0') LR: [3.0000000000000004e-05]\n",
      "train: tensor(0.8052, device='cuda:0') valid: tensor(0.7765, device='cuda:0') LR: [3.0000000000000004e-05]\n",
      "train: tensor(0.8052, device='cuda:0') valid: tensor(0.7765, device='cuda:0') LR: [3.0000000000000004e-05]\n",
      "train: tensor(0.8052, device='cuda:0') valid: tensor(0.7765, device='cuda:0') LR: [3.0000000000000004e-05]\n",
      "train: tensor(0.8052, device='cuda:0') valid: tensor(0.7765, device='cuda:0') LR: [3.000000000000001e-07]\n",
      "train: tensor(0.8052, device='cuda:0') valid: tensor(0.7765, device='cuda:0') LR: [3.0000000000000005e-06]\n",
      "train: tensor(0.8052, device='cuda:0') valid: tensor(0.7765, device='cuda:0') LR: [3.0000000000000005e-06]\n",
      "train: tensor(0.8052, device='cuda:0') valid: tensor(0.7765, device='cuda:0') LR: [3.0000000000000005e-06]\n",
      "train: tensor(0.8052, device='cuda:0') valid: tensor(0.7765, device='cuda:0') LR: [3.0000000000000005e-06]\n",
      "train: tensor(0.8052, device='cuda:0') valid: tensor(0.7765, device='cuda:0') LR: [3.0000000000000005e-06]\n",
      "train: tensor(0.8052, device='cuda:0') valid: tensor(0.7765, device='cuda:0') LR: [3.0000000000000005e-06]\n",
      "train: tensor(0.8052, device='cuda:0') valid: tensor(0.7765, device='cuda:0') LR: [3.0000000000000005e-06]\n",
      "train: tensor(0.8052, device='cuda:0') valid: tensor(0.7765, device='cuda:0') LR: [3.0000000000000005e-06]\n",
      "train: tensor(0.8052, device='cuda:0') valid: tensor(0.7765, device='cuda:0') LR: [3.0000000000000005e-06]\n",
      "train: tensor(0.8052, device='cuda:0') valid: tensor(0.7765, device='cuda:0') LR: [3.000000000000001e-08]\n",
      "train: tensor(0.8052, device='cuda:0') valid: tensor(0.7765, device='cuda:0') LR: [3.000000000000001e-07]\n",
      "train: tensor(0.8052, device='cuda:0') valid: tensor(0.7765, device='cuda:0') LR: [3.000000000000001e-07]\n",
      "train: tensor(0.8052, device='cuda:0') valid: tensor(0.7765, device='cuda:0') LR: [3.000000000000001e-07]\n",
      "train: tensor(0.8052, device='cuda:0') valid: tensor(0.7765, device='cuda:0') LR: [3.000000000000001e-07]\n",
      "train: tensor(0.8052, device='cuda:0') valid: tensor(0.7765, device='cuda:0') LR: [3.000000000000001e-07]\n",
      "train: tensor(0.8052, device='cuda:0') valid: tensor(0.7765, device='cuda:0') LR: [3.000000000000001e-07]\n",
      "train: tensor(0.8052, device='cuda:0') valid: tensor(0.7765, device='cuda:0') LR: [3.000000000000001e-07]\n",
      "train: tensor(0.8052, device='cuda:0') valid: tensor(0.7765, device='cuda:0') LR: [3.000000000000001e-07]\n",
      "train: tensor(0.8052, device='cuda:0') valid: tensor(0.7765, device='cuda:0') LR: [3.000000000000001e-07]\n",
      "train: tensor(0.8052, device='cuda:0') valid: tensor(0.7765, device='cuda:0') LR: [3.0000000000000012e-09]\n",
      "train: tensor(0.8052, device='cuda:0') valid: tensor(0.7765, device='cuda:0') LR: [3.000000000000001e-08]\n",
      "train: tensor(0.8052, device='cuda:0') valid: tensor(0.7765, device='cuda:0') LR: [3.000000000000001e-08]\n",
      "train: tensor(0.8052, device='cuda:0') valid: tensor(0.7765, device='cuda:0') LR: [3.000000000000001e-08]\n",
      "train: tensor(0.8052, device='cuda:0') valid: tensor(0.7765, device='cuda:0') LR: [3.000000000000001e-08]\n",
      "train: tensor(0.8052, device='cuda:0') valid: tensor(0.7765, device='cuda:0') LR: [3.000000000000001e-08]\n",
      "train: tensor(0.8052, device='cuda:0') valid: tensor(0.7765, device='cuda:0') LR: [3.000000000000001e-08]\n",
      "train: tensor(0.8052, device='cuda:0') valid: tensor(0.7765, device='cuda:0') LR: [3.000000000000001e-08]\n",
      "train: tensor(0.8052, device='cuda:0') valid: tensor(0.7765, device='cuda:0') LR: [3.000000000000001e-08]\n",
      "train: tensor(0.8052, device='cuda:0') valid: tensor(0.7765, device='cuda:0') LR: [3.000000000000001e-08]\n",
      "train: tensor(0.8052, device='cuda:0') valid: tensor(0.7765, device='cuda:0') LR: [3.0000000000000015e-10]\n",
      "train: tensor(0.8052, device='cuda:0') valid: tensor(0.7765, device='cuda:0') LR: [3.0000000000000012e-09]\n",
      "train: tensor(0.8052, device='cuda:0') valid: tensor(0.7765, device='cuda:0') LR: [3.0000000000000012e-09]\n",
      "train: tensor(0.8052, device='cuda:0') valid: tensor(0.7765, device='cuda:0') LR: [3.0000000000000012e-09]\n",
      "train: tensor(0.8052, device='cuda:0') valid: tensor(0.7765, device='cuda:0') LR: [3.0000000000000012e-09]\n",
      "train: tensor(0.8052, device='cuda:0') valid: tensor(0.7765, device='cuda:0') LR: [3.0000000000000012e-09]\n",
      "train: tensor(0.8052, device='cuda:0') valid: tensor(0.7765, device='cuda:0') LR: [3.0000000000000012e-09]\n",
      "train: tensor(0.8052, device='cuda:0') valid: tensor(0.7765, device='cuda:0') LR: [3.0000000000000012e-09]\n",
      "train: tensor(0.8052, device='cuda:0') valid: tensor(0.7765, device='cuda:0') LR: [3.0000000000000012e-09]\n",
      "train: tensor(0.8052, device='cuda:0') valid: tensor(0.7765, device='cuda:0') LR: [3.0000000000000012e-09]\n",
      "train: tensor(0.8052, device='cuda:0') valid: tensor(0.7765, device='cuda:0') LR: [3.000000000000002e-11]\n",
      "train: tensor(0.8052, device='cuda:0') valid: tensor(0.7765, device='cuda:0') LR: [3.0000000000000015e-10]\n",
      "train: tensor(0.8052, device='cuda:0') valid: tensor(0.7765, device='cuda:0') LR: [3.0000000000000015e-10]\n",
      "train: tensor(0.8052, device='cuda:0') valid: tensor(0.7765, device='cuda:0') LR: [3.0000000000000015e-10]\n",
      "train: tensor(0.8052, device='cuda:0') valid: tensor(0.7765, device='cuda:0') LR: [3.0000000000000015e-10]\n",
      "train: tensor(0.8052, device='cuda:0') valid: tensor(0.7765, device='cuda:0') LR: [3.0000000000000015e-10]\n",
      "train: tensor(0.8052, device='cuda:0') valid: tensor(0.7765, device='cuda:0') LR: [3.0000000000000015e-10]\n",
      "train: tensor(0.8052, device='cuda:0') valid: tensor(0.7765, device='cuda:0') LR: [3.0000000000000015e-10]\n",
      "train: tensor(0.8052, device='cuda:0') valid: tensor(0.7765, device='cuda:0') LR: [3.0000000000000015e-10]\n",
      "train: tensor(0.8052, device='cuda:0') valid: tensor(0.7765, device='cuda:0') LR: [3.0000000000000015e-10]\n",
      "train: tensor(0.8052, device='cuda:0') valid: tensor(0.7765, device='cuda:0') LR: [3.000000000000002e-12]\n",
      "train: tensor(0.8052, device='cuda:0') valid: tensor(0.7765, device='cuda:0') LR: [3.000000000000002e-11]\n",
      "train: tensor(0.8052, device='cuda:0') valid: tensor(0.7765, device='cuda:0') LR: [3.000000000000002e-11]\n",
      "train: tensor(0.8052, device='cuda:0') valid: tensor(0.7765, device='cuda:0') LR: [3.000000000000002e-11]\n",
      "train: tensor(0.8052, device='cuda:0') valid: tensor(0.7765, device='cuda:0') LR: [3.000000000000002e-11]\n",
      "train: tensor(0.8052, device='cuda:0') valid: tensor(0.7765, device='cuda:0') LR: [3.000000000000002e-11]\n",
      "train: tensor(0.8052, device='cuda:0') valid: tensor(0.7765, device='cuda:0') LR: [3.000000000000002e-11]\n",
      "train: tensor(0.8052, device='cuda:0') valid: tensor(0.7765, device='cuda:0') LR: [3.000000000000002e-11]\n",
      "train: tensor(0.8052, device='cuda:0') valid: tensor(0.7765, device='cuda:0') LR: [3.000000000000002e-11]\n",
      "train: tensor(0.8052, device='cuda:0') valid: tensor(0.7765, device='cuda:0') LR: [3.000000000000002e-11]\n"
     ]
    }
   ],
   "source": [
    "batch_size = 16\n",
    "\n",
    "for epoch in range(1000):\n",
    "    order = np.random.permutation(len(X_train))\n",
    "    for start_index in range(0, len(X_train), batch_size):\n",
    "        optimizer.zero_grad()\n",
    "        \n",
    "        batch_indexes = order[start_index:start_index+batch_size]\n",
    "        \n",
    "        x_batch = X_train[batch_indexes].to(device)\n",
    "        y_batch = y_train[batch_indexes].to(device)\n",
    "        \n",
    "        preds = Titane_net.forward(x_batch) \n",
    "        \n",
    "        loss_value = loss(preds, y_batch)\n",
    "        loss_value.backward()\n",
    "        \n",
    "        optimizer.step()\n",
    "        \n",
    "    if epoch % 10 == 0:\n",
    "        valid_preds = Titane_net.forward(X_valid.to(device))\n",
    "        valid_preds = valid_preds.argmax(dim=1)\n",
    "        train_preds = Titane_net.forward(X_train.to(device))\n",
    "        train_preds = train_preds.argmax(dim=1)\n",
    "\n",
    "\n",
    "        valid_acc = (valid_preds == y_valid.to(device)).float().mean()\n",
    "        train_acc = (train_preds == y_train.to(device)).float().mean()\n",
    "        print('train:',train_acc,'valid:',valid_acc,'LR:', scheduler.get_lr())\n",
    "        scheduler.step()"
   ]
  },
  {
   "cell_type": "code",
   "execution_count": null,
   "metadata": {
    "colab": {},
    "colab_type": "code",
    "id": "P58Fp8Pgea7g"
   },
   "outputs": [],
   "source": [
    "#зафиксируем lr=3e-3\n",
    "Titane_net = TitanicNet(5).to(device)\n",
    "loss = torch.nn.CrossEntropyLoss()\n",
    "\n",
    "optimizer = torch.optim.Adam(Titane_net.parameters(), \n",
    "                             lr=3e-3)"
   ]
  },
  {
   "cell_type": "code",
   "execution_count": null,
   "metadata": {
    "colab": {
     "base_uri": "https://localhost:8080/",
     "height": 191
    },
    "colab_type": "code",
    "id": "pKNEev0NgDJW",
    "outputId": "44c70dd2-fe1a-4ac9-d3da-55f020db49ea"
   },
   "outputs": [
    {
     "name": "stdout",
     "output_type": "stream",
     "text": [
      "train: tensor(0.7940, device='cuda:0') valid: tensor(0.7709, device='cuda:0')\n",
      "train: tensor(0.8015, device='cuda:0') valid: tensor(0.7709, device='cuda:0')\n",
      "train: tensor(0.8015, device='cuda:0') valid: tensor(0.7709, device='cuda:0')\n",
      "train: tensor(0.8071, device='cuda:0') valid: tensor(0.7654, device='cuda:0')\n",
      "train: tensor(0.8052, device='cuda:0') valid: tensor(0.7654, device='cuda:0')\n",
      "train: tensor(0.8052, device='cuda:0') valid: tensor(0.7654, device='cuda:0')\n",
      "train: tensor(0.7996, device='cuda:0') valid: tensor(0.7654, device='cuda:0')\n",
      "train: tensor(0.8034, device='cuda:0') valid: tensor(0.7654, device='cuda:0')\n",
      "train: tensor(0.8071, device='cuda:0') valid: tensor(0.7709, device='cuda:0')\n",
      "train: tensor(0.8109, device='cuda:0') valid: tensor(0.7654, device='cuda:0')\n"
     ]
    }
   ],
   "source": [
    "batch_size = 16\n",
    "\n",
    "for epoch in range(1000):\n",
    "    order = np.random.permutation(len(X_train))\n",
    "    for start_index in range(0, len(X_train), batch_size):\n",
    "        optimizer.zero_grad()\n",
    "        \n",
    "        batch_indexes = order[start_index:start_index+batch_size]\n",
    "        \n",
    "        x_batch = X_train[batch_indexes].to(device)\n",
    "        y_batch = y_train[batch_indexes].to(device)\n",
    "        \n",
    "        preds = Titane_net.forward(x_batch) \n",
    "        \n",
    "        loss_value = loss(preds, y_batch)\n",
    "        loss_value.backward()\n",
    "        \n",
    "        optimizer.step()\n",
    "        \n",
    "    if epoch % 100 == 0:\n",
    "        valid_preds = Titane_net.forward(X_valid.to(device))\n",
    "        valid_preds = valid_preds.argmax(dim=1)\n",
    "        train_preds = Titane_net.forward(X_train.to(device))\n",
    "        train_preds = train_preds.argmax(dim=1)\n",
    "\n",
    "\n",
    "        valid_acc = (valid_preds == y_valid.to(device)).float().mean()\n",
    "        train_acc = (train_preds == y_train.to(device)).float().mean()\n",
    "        print('train:',train_acc,'valid:',valid_acc)"
   ]
  },
  {
   "cell_type": "code",
   "execution_count": null,
   "metadata": {
    "colab": {
     "base_uri": "https://localhost:8080/",
     "height": 34
    },
    "colab_type": "code",
    "id": "6VPE8IivgDVE",
    "outputId": "76a27831-8b7f-4c42-f137-a6a1c21972e0"
   },
   "outputs": [
    {
     "name": "stdout",
     "output_type": "stream",
     "text": [
      "tensor(0.7697, device='cuda:0')\n"
     ]
    }
   ],
   "source": [
    "#посмотрим результат на тесте\n",
    "test_preds = Titane_net.forward(X_test.to(device))\n",
    "test_preds = test_preds.argmax(dim=1)\n",
    "test_acc = (test_preds == y_test.to(device)).float().mean()\n",
    "print(test_acc)"
   ]
  },
  {
   "cell_type": "markdown",
   "metadata": {
    "colab_type": "text",
    "id": "NuJ9CZjEkmC_"
   },
   "source": [
    "Один выход из сети"
   ]
  },
  {
   "cell_type": "code",
   "execution_count": null,
   "metadata": {
    "colab": {},
    "colab_type": "code",
    "id": "T8vKD5KijoVY"
   },
   "outputs": [],
   "source": [
    "class TitanicNet(torch.nn.Module):\n",
    "    def __init__(self, n_hidden_neurons):\n",
    "        super(TitanicNet, self).__init__()\n",
    "        \n",
    "        self.fc1 = torch.nn.Linear(5, 1)\n",
    "        self.sigm = torch.nn.Sigmoid()\n",
    "        \n",
    "    def forward(self, x):\n",
    "        x = self.fc1(x)\n",
    "        x = self.sigm(x)\n",
    "        return x\n",
    "    \n",
    "Titane_net = TitanicNet(50).to(device)"
   ]
  },
  {
   "cell_type": "code",
   "execution_count": null,
   "metadata": {
    "colab": {},
    "colab_type": "code",
    "id": "lJtPjwWFjoiI"
   },
   "outputs": [],
   "source": [
    "loss = torch.nn.BCELoss()\n",
    "\n",
    "optimizer = torch.optim.Adam(Titane_net.parameters(), \n",
    "                             lr=3e-4)"
   ]
  },
  {
   "cell_type": "code",
   "execution_count": 72,
   "metadata": {
    "colab": {
     "base_uri": "https://localhost:8080/",
     "height": 191
    },
    "colab_type": "code",
    "id": "h0uNbrFhjoq6",
    "outputId": "41719af5-462d-4f88-8b16-ae3492e83611"
   },
   "outputs": [
    {
     "name": "stdout",
     "output_type": "stream",
     "text": [
      "roc_auc_score 0.30109395109395104\n",
      "roc_auc_score 0.8013513513513514\n",
      "roc_auc_score 0.8001930501930502\n",
      "roc_auc_score 0.7994208494208495\n",
      "roc_auc_score 0.8003217503217503\n",
      "roc_auc_score 0.8012226512226512\n",
      "roc_auc_score 0.8025096525096526\n",
      "roc_auc_score 0.8026383526383526\n",
      "roc_auc_score 0.8026383526383526\n",
      "roc_auc_score 0.8026383526383526\n"
     ]
    }
   ],
   "source": [
    "from sklearn.metrics import roc_auc_score\n",
    "ras_train = []\n",
    "ras_valid = []\n",
    "\n",
    "batch_size = 16\n",
    "\n",
    "for epoch in range(1000):\n",
    "    order = np.random.permutation(len(X_train))\n",
    "    for start_index in range(0, len(X_train), batch_size):\n",
    "        optimizer.zero_grad()\n",
    "        \n",
    "        batch_indexes = order[start_index:start_index+batch_size]\n",
    "        \n",
    "        x_batch = X_train[batch_indexes].to(device)\n",
    "        y_batch = y_train[batch_indexes].to(device)\n",
    "        \n",
    "        preds = Titane_net.forward(x_batch)\n",
    "        preds = preds.reshape(y_batch.size()[0])\n",
    "        preds_ras = Titane_net.forward(x_batch)\n",
    "        \n",
    "        \n",
    "        loss_value = loss(preds, y_batch.float())\n",
    "        loss_value.backward()\n",
    "        \n",
    "        optimizer.step()\n",
    "        \n",
    "    if epoch % 100 == 0:\n",
    "        valid_preds = Titane_net.forward(X_valid.to(device))\n",
    "        valid_preds_ras = Titane_net.forward(X_valid.to(device))\n",
    "        #valid_preds = torch.round(valid_preds)\n",
    "        ras_epoch = roc_auc_score(y_valid.cpu().detach().numpy(), valid_preds_ras.cpu().detach().numpy())\n",
    "        print('roc_auc_score',ras_epoch)\n",
    "        "
   ]
  },
  {
   "cell_type": "code",
   "execution_count": 73,
   "metadata": {
    "colab": {
     "base_uri": "https://localhost:8080/",
     "height": 34
    },
    "colab_type": "code",
    "id": "UT4-Q3QBlSbm",
    "outputId": "da5afd97-8b0f-4c92-b7e1-f8241e131cac"
   },
   "outputs": [
    {
     "name": "stdout",
     "output_type": "stream",
     "text": [
      "roc_auc_score 0.7844827586206896\n"
     ]
    }
   ],
   "source": [
    "#посмотрим результат на тесте\n",
    "test_preds = Titane_net.forward(X_test.to(device))\n",
    "#valid_preds = torch.round(valid_preds)\n",
    "ras_test = roc_auc_score(y_test.cpu().detach().numpy(), test_preds.cpu().detach().numpy())\n",
    "print('roc_auc_score',ras_test)"
   ]
  },
  {
   "cell_type": "markdown",
   "metadata": {
    "colab_type": "text",
    "id": "Wvnr5nMQ8Im1"
   },
   "source": [
    "# Задача 7\n",
    "\n",
    "По примеру задачи MNIST (без сверточных сетей), решите задачу CIFAR100 (классификация на 100 классов). Добейтесь максимального качества."
   ]
  },
  {
   "cell_type": "markdown",
   "metadata": {
    "colab_type": "text",
    "id": "gE7EqOqw8PuA"
   },
   "source": [
    "В данном задании в качетве метрики использовал precision, но никак не смог избавиться от переобучения и добиться высокого значения метрики на тестовой выборке. Пробовал и подбор шага, и размер выборки и разные архитектуры и количество нейронов..."
   ]
  },
  {
   "cell_type": "code",
   "execution_count": null,
   "metadata": {
    "colab": {},
    "colab_type": "code",
    "id": "VoXtPHMfoQtd"
   },
   "outputs": [],
   "source": [
    "import torchvision.datasets\n",
    "import torchvision.transforms as transforms\n",
    "from sklearn.metrics import precision_score\n",
    "from sklearn import preprocessing\n",
    "from sklearn.preprocessing import StandardScaler\n",
    "from sklearn.model_selection import train_test_split\n",
    "import pandas as pd\n",
    "import numpy as np\n",
    "import random\n",
    "import torch\n",
    "#фиксируем последовательности библиотек random\n",
    "random.seed(0)\n",
    "np.random.seed(0)\n",
    "torch.cuda.manual_seed(0)\n",
    "torch.backends.cudnn.deterministic = True"
   ]
  },
  {
   "cell_type": "code",
   "execution_count": 3,
   "metadata": {
    "colab": {
     "base_uri": "https://localhost:8080/",
     "height": 52
    },
    "colab_type": "code",
    "id": "Ox4yA76kWDbE",
    "outputId": "767324b6-60f5-40ab-ce58-7ec0c1524ad4"
   },
   "outputs": [
    {
     "name": "stdout",
     "output_type": "stream",
     "text": [
      "Files already downloaded and verified\n",
      "Files already downloaded and verified\n"
     ]
    }
   ],
   "source": [
    "# загрузим данные\n",
    "train = torchvision.datasets.CIFAR100('./', download=True, train=True)\n",
    "test = torchvision.datasets.CIFAR100('./', download=True, train=False)"
   ]
  },
  {
   "cell_type": "code",
   "execution_count": null,
   "metadata": {
    "colab": {},
    "colab_type": "code",
    "id": "VisYAOY-oMVk"
   },
   "outputs": [],
   "source": [
    "# выделим лейблы классов и данные\n",
    "X_train = train.data\n",
    "y_train = train.targets\n",
    "X_test = test.data\n",
    "y_test = test.targets"
   ]
  },
  {
   "cell_type": "code",
   "execution_count": 9,
   "metadata": {
    "colab": {
     "base_uri": "https://localhost:8080/",
     "height": 283
    },
    "colab_type": "code",
    "id": "K4CBSG76pRuY",
    "outputId": "86e425a0-141c-4ea6-ecca-71f37973ce40"
   },
   "outputs": [
    {
     "data": {
      "image/png": "[encoded data removed]",
      "text/plain": [
       "<Figure size 432x288 with 1 Axes>"
      ]
     },
     "metadata": {
      "tags": []
     },
     "output_type": "display_data"
    },
    {
     "name": "stdout",
     "output_type": "stream",
     "text": [
      "39\n"
     ]
    }
   ],
   "source": [
    "# посмотрим каким образом выглядит одна запись\n",
    "import matplotlib.pyplot as plt\n",
    "plt.imshow(X_train[15, :, :])\n",
    "plt.show()\n",
    "print(y_train[15])"
   ]
  },
  {
   "cell_type": "code",
   "execution_count": null,
   "metadata": {
    "colab": {},
    "colab_type": "code",
    "id": "oLWFdU8cpRqw"
   },
   "outputs": [],
   "source": [
    "# изменим форму массивов данных\n",
    "X_train =  X_train.reshape([-1, 32 * 32 * 3])\n",
    "X_test =  X_test.reshape([-1, 32 * 32 * 3])"
   ]
  },
  {
   "cell_type": "code",
   "execution_count": null,
   "metadata": {
    "colab": {},
    "colab_type": "code",
    "id": "UX4Rg3lNYvbo"
   },
   "outputs": [],
   "source": [
    "# посмотрим на баланс классов\n",
    "class_test = pd.DataFrame(y_test)\n",
    "class_test.rename(columns={0: 'target'}, inplace=True)\n",
    "data_test = pd.DataFrame.from_records(X_test)\n",
    "df_test = pd.concat([data_test,class_test],axis=1)"
   ]
  },
  {
   "cell_type": "code",
   "execution_count": 22,
   "metadata": {
    "colab": {
     "base_uri": "https://localhost:8080/",
     "height": 225
    },
    "colab_type": "code",
    "id": "AELNj7O9Yt9U",
    "outputId": "b64487b3-8427-473e-8a1e-11f436567bd9"
   },
   "outputs": [
    {
     "data": {
      "text/plain": [
       "95    100\n",
       "82    100\n",
       "2     100\n",
       "10    100\n",
       "18    100\n",
       "     ... \n",
       "45    100\n",
       "53    100\n",
       "61    100\n",
       "69    100\n",
       "0     100\n",
       "Name: target, Length: 100, dtype: int64"
      ]
     },
     "execution_count": 22,
     "metadata": {
      "tags": []
     },
     "output_type": "execute_result"
    }
   ],
   "source": [
    "df_test['target'].value_counts()"
   ]
  },
  {
   "cell_type": "code",
   "execution_count": null,
   "metadata": {
    "colab": {},
    "colab_type": "code",
    "id": "2Edzje6D2xOE"
   },
   "outputs": [],
   "source": [
    "# выполним нормировку данных\n",
    "from sklearn.preprocessing import StandardScaler\n",
    "scaler = StandardScaler()\n",
    "X_train_scale = scaler.fit_transform(X_train)\n",
    "X_test_scale = scaler.fit_transform(X_test)"
   ]
  },
  {
   "cell_type": "code",
   "execution_count": null,
   "metadata": {
    "colab": {},
    "colab_type": "code",
    "id": "GatDnOkhuZuy"
   },
   "outputs": [],
   "source": [
    "# перевод формата \n",
    "X_train = torch.tensor(X_train_scale).float()\n",
    "y_train = torch.LongTensor(y_train)\n",
    "X_test = torch.tensor(X_test_scale).float()\n",
    "y_test = torch.LongTensor(y_test)"
   ]
  },
  {
   "cell_type": "code",
   "execution_count": null,
   "metadata": {
    "colab": {},
    "colab_type": "code",
    "id": "I00famj17IKe"
   },
   "outputs": [],
   "source": [
    "device = torch.device('cuda') if torch.cuda.is_available() else torch.device('cpu')"
   ]
  },
  {
   "cell_type": "code",
   "execution_count": null,
   "metadata": {
    "colab": {},
    "colab_type": "code",
    "id": "xdt8wnPLsZUe"
   },
   "outputs": [],
   "source": [
    "class CIFAR100Net(torch.nn.Module):\n",
    "    def __init__(self, n_hidden_neurons):\n",
    "        super(CIFAR100Net, self).__init__()\n",
    "        self.fc1 = torch.nn.Linear(32 * 32 * 3, n_hidden_neurons)\n",
    "        self.ac1 = torch.nn.LeakyReLU()\n",
    "        #добавим BatchNorm\n",
    "        self.bn1 = torch.nn.BatchNorm1d(n_hidden_neurons)\n",
    "        self.fc2 = torch.nn.Linear(n_hidden_neurons, n_hidden_neurons)\n",
    "        self.bn3 = torch.nn.BatchNorm1d(n_hidden_neurons)\n",
    "        self.ac3 = torch.nn.Sigmoid()\n",
    "        self.fc4 = torch.nn.Linear(n_hidden_neurons, 100)\n",
    "        self.sm = torch.nn.LogSoftmax(dim=1) \n",
    "    \n",
    "    def forward(self, x):\n",
    "        x = self.fc1(x)\n",
    "        x = self.ac1(x)\n",
    "        x = self.bn1(x)\n",
    "        x = self.fc2(x)\n",
    "        x = self.bn3(x)\n",
    "        x = self.ac3(x)\n",
    "        x = self.fc4(x)\n",
    "        return x\n",
    "    \n",
    "cifar1000_net = CIFAR100Net(100).to(device)"
   ]
  },
  {
   "cell_type": "code",
   "execution_count": null,
   "metadata": {
    "colab": {},
    "colab_type": "code",
    "id": "WV-wSR8UsZbU"
   },
   "outputs": [],
   "source": [
    "loss = torch.nn.CrossEntropyLoss()\n",
    "optimizer = torch.optim.Adam(cifar1000_net.parameters(), lr=1.0e-4)"
   ]
  },
  {
   "cell_type": "code",
   "execution_count": 60,
   "metadata": {
    "colab": {
     "base_uri": "https://localhost:8080/",
     "height": 419
    },
    "colab_type": "code",
    "id": "gttcQyBtsZYv",
    "outputId": "19cbf1c0-899c-4254-f8c6-8f77e31a244b"
   },
   "outputs": [
    {
     "name": "stderr",
     "output_type": "stream",
     "text": [
      "/usr/local/lib/python3.6/dist-packages/sklearn/metrics/_classification.py:1272: UndefinedMetricWarning: Precision is ill-defined and being set to 0.0 in labels with no predicted samples. Use `zero_division` parameter to control this behavior.\n",
      "  _warn_prf(average, modifier, msg_start, len(result))\n"
     ]
    },
    {
     "name": "stdout",
     "output_type": "stream",
     "text": [
      "precision_train: 0.006062782754653407 precision_test: 0.00564481871880898\n",
      "precision_train: 0.23715111414277634 precision_test: 0.13947298535335972\n",
      "precision_train: 0.29765461879245586 precision_test: 0.16482317719385445\n",
      "precision_train: 0.33320795753795573 precision_test: 0.1590837839197865\n",
      "precision_train: 0.3548202483928481 precision_test: 0.15324336320715323\n",
      "precision_train: 0.3892439631289177 precision_test: 0.1525016475559639\n",
      "precision_train: 0.42089561518525714 precision_test: 0.15284923187223576\n",
      "precision_train: 0.4456492407700754 precision_test: 0.1521960719060517\n",
      "precision_train: 0.4694982593464731 precision_test: 0.14825793252417524\n",
      "precision_train: 0.5175881041038771 precision_test: 0.14582090456046673\n",
      "precision_train: 0.521475902208451 precision_test: 0.14128395780830885\n",
      "precision_train: 0.5352012221596913 precision_test: 0.14563054696808364\n",
      "precision_train: 0.5600409911584908 precision_test: 0.14146110335520828\n",
      "precision_train: 0.5782429542418072 precision_test: 0.14381557864489017\n",
      "precision_train: 0.5995568238913233 precision_test: 0.14162657474708498\n",
      "precision_train: 0.5992294976375482 precision_test: 0.13564238529603753\n",
      "precision_train: 0.6361197868865998 precision_test: 0.14112159624186832\n",
      "precision_train: 0.6423038494052052 precision_test: 0.1384723915686746\n",
      "precision_train: 0.6627285011337158 precision_test: 0.13628771611316506\n",
      "precision_train: 0.6613299798153797 precision_test: 0.1350462498654973\n"
     ]
    }
   ],
   "source": [
    "batch_size = 10000\n",
    "\n",
    "test_precission_history = []\n",
    "train_precission_history = []\n",
    "test_loss_history = []\n",
    "n_epoch = []\n",
    "X_test = X_test.to(device)\n",
    "y_test = y_test.to(device)\n",
    "\n",
    "for epoch in range(2000):\n",
    "    order = np.random.permutation(len(X_train))\n",
    "    \n",
    "    for start_index in range(0, len(X_train), batch_size):\n",
    "        optimizer.zero_grad()\n",
    "        \n",
    "        batch_indexes = order[start_index:start_index+batch_size]\n",
    "        \n",
    "        X_batch = X_train[batch_indexes] .to(device)\n",
    "        y_batch = y_train[batch_indexes] .to(device)\n",
    "        \n",
    "        preds = cifar1000_net.forward(X_batch) \n",
    "        \n",
    "        loss_value = loss(preds, y_batch)\n",
    "        loss_value.backward()\n",
    "        \n",
    "        optimizer.step()\n",
    "    if epoch % 100 == 0:\n",
    "      \n",
    "      n_epoch.append(epoch)\n",
    "      # в качестве метрики использовал precision с average='macro', \n",
    "      #так как классы в выборках сбалансированы\n",
    "      precision_train = precision_score(y_batch.cpu().detach().numpy(), \\\n",
    "                                        preds.argmax(dim=1).cpu().detach().numpy(), average='macro')\n",
    "      test_preds = cifar1000_net.forward(X_test)\n",
    "      test_loss_history.append(loss(test_preds, y_test))\n",
    "\n",
    "      \n",
    "      precision_test = precision_score(y_test.cpu().detach().numpy(), \\\n",
    "                                       test_preds.argmax(dim=1).cpu().detach().numpy(), average='macro')\n",
    "      test_precission_history.append(precision_test)\n",
    "      train_precission_history.append(precision_train)\n",
    "      print('precision_train:',precision_train,'precision_test:',precision_test)"
   ]
  },
  {
   "cell_type": "code",
   "execution_count": 62,
   "metadata": {
    "colab": {
     "base_uri": "https://localhost:8080/",
     "height": 265
    },
    "colab_type": "code",
    "id": "Q-xQhjzDsZRI",
    "outputId": "15800580-bfbd-4ef8-d203-ac1c219138da"
   },
   "outputs": [
    {
     "data": {
      "image/png": "[encoded data removed]",
      "text/plain": [
       "<Figure size 432x288 with 1 Axes>"
      ]
     },
     "metadata": {
      "tags": []
     },
     "output_type": "display_data"
    }
   ],
   "source": [
    "plt.plot(n_epoch,test_precission_history)\n",
    "plt.plot(n_epoch,train_precission_history);"
   ]
  }
 ],
 "metadata": {
  "accelerator": "GPU",
  "colab": {
   "collapsed_sections": [],
   "name": "Copy of Домашка 1.ipynb",
   "provenance": []
  },
  "kernelspec": {
   "display_name": "Python 3",
   "language": "python",
   "name": "python3"
  },
  "language_info": {
   "codemirror_mode": {
    "name": "ipython",
    "version": 3
   },
   "file_extension": ".py",
   "mimetype": "text/x-python",
   "name": "python",
   "nbconvert_exporter": "python",
   "pygments_lexer": "ipython3",
   "version": "3.7.6"
  }
 },
 "nbformat": 4,
 "nbformat_minor": 4
}
